{
  "nbformat": 4,
  "nbformat_minor": 0,
  "metadata": {
    "colab": {
      "provenance": [],
      "authorship_tag": "ABX9TyPANZjzC+SAifRdPGfR8J9l",
      "include_colab_link": true
    },
    "kernelspec": {
      "name": "python3",
      "display_name": "Python 3"
    },
    "language_info": {
      "name": "python"
    }
  },
  "cells": [
    {
      "cell_type": "markdown",
      "metadata": {
        "id": "view-in-github",
        "colab_type": "text"
      },
      "source": [
        "<a href=\"https://colab.research.google.com/github/klaramyk/20241-Algoritmos-Estruturas-Dados-ClaraMedeiros/blob/main/atividade_05.ipynb\" target=\"_parent\"><img src=\"https://colab.research.google.com/assets/colab-badge.svg\" alt=\"Open In Colab\"/></a>"
      ]
    },
    {
      "cell_type": "markdown",
      "source": [
        "1. Crie um programa que leia um número inteiro. Quando este for negativo,\n",
        "some-o com 100; quando positivo, apenas faça sua impressão."
      ],
      "metadata": {
        "id": "DewpmTANj388"
      }
    },
    {
      "cell_type": "code",
      "execution_count": 4,
      "metadata": {
        "colab": {
          "base_uri": "https://localhost:8080/"
        },
        "id": "07wVkBQQjs2p",
        "outputId": "5d2e89b8-6ae8-4a38-d08b-a69c3c817474"
      },
      "outputs": [
        {
          "output_type": "stream",
          "name": "stdout",
          "text": [
            "Digite um número inteiro qualquer: -43\n",
            "57\n"
          ]
        }
      ],
      "source": [
        "num = int(input ('Digite um número inteiro qualquer: '))\n",
        "\n",
        "if num < 0:\n",
        "  num_negativo = num + 100\n",
        "  print (num_negativo)\n",
        "\n",
        "else:\n",
        "  print (num)"
      ]
    },
    {
      "cell_type": "markdown",
      "source": [
        "2. Crie um programa que leia o código de um curso do IFRN, Campus\n",
        "Natal Central, e indique o nome do curso de acordo com a tabela abaixo. Se o\n",
        "programa ler um código inexistente no Instituto, uma mensagem de alerta deve\n",
        "ser informada ao usuário.\n",
        "\n",
        "Código Curso\n",
        "\n",
        "\n",
        "*   1 Técnico em Informática Subseqüente\n",
        "*   2 Técnico em Informática EJA\n",
        "*   3 Técnico em Cooperativismo\n",
        "*   4 Técnico em Cooperativismo EJA\n",
        "*   5 Licenciatura em Física"
      ],
      "metadata": {
        "id": "Kc0Z1X5zkyEC"
      }
    },
    {
      "cell_type": "code",
      "source": [
        "print ('*** Cursos do IFRN - Campus Natal Central *** \\n')\n",
        "\n",
        "print ('Código | Nome do Curso')\n",
        "print (\n",
        "  '1 | Técnico em Informática Subseqüente \\n'\n",
        "  '2 | Técnico em Informática EJA \\n'\n",
        "  '3 | Técnico em Cooperativismo \\n'\n",
        "  '4 | Técnico em Cooperativismo EJA \\n'\n",
        "  '5 | Licenciatura em Física \\n')\n",
        "\n",
        "codigo_1 = ('Técnico em Informática Subsequënte')\n",
        "codigo_2 = ('Técnico em Informática EJA')\n",
        "codigo_3 = ('Técnico em Cooperativismo')\n",
        "codigo_4 = ('Técnico em Cooperativismo EJA')\n",
        "codigo_5 = ('Licenciatura em Física')\n",
        "\n",
        "codigo_IF = int(input ('Digite o código do curso desejado: '))\n",
        "\n",
        "if codigo_IF == 1:\n",
        "  print (codigo_1)\n",
        "\n",
        "elif codigo_IF == 2:\n",
        "  print (codigo_2)\n",
        "\n",
        "elif codigo_IF == 3:\n",
        "  print (codigo_3)\n",
        "\n",
        "elif codigo_IF == 4:\n",
        "  print (codigo_4)\n",
        "\n",
        "elif codigo_IF == 5:\n",
        "  print (codigo_5)\n",
        "\n",
        "else:\n",
        "  print('Você digitou um código inválido.')"
      ],
      "metadata": {
        "colab": {
          "base_uri": "https://localhost:8080/"
        },
        "id": "WUUM0b8lk12d",
        "outputId": "ac17cd48-3622-44f2-d636-15ef14b7ac89"
      },
      "execution_count": 18,
      "outputs": [
        {
          "output_type": "stream",
          "name": "stdout",
          "text": [
            "*** Cursos do IFRN - Campus Natal Central *** \n",
            "\n",
            "Código | Nome do Curso\n",
            "1 | Técnico em Informática Subseqüente \n",
            "2 | Técnico em Informática EJA \n",
            "3 | Técnico em Cooperativismo \n",
            "4 | Técnico em Cooperativismo EJA \n",
            "5 | Licenciatura em Física \n",
            "\n",
            "Digite o código do curso desejado: 5\n",
            "Licenciatura em Física\n"
          ]
        }
      ]
    },
    {
      "cell_type": "markdown",
      "source": [
        "3. Leia duas strings e informe o conteúdo delas\n",
        "seguido do seu comprimento."
      ],
      "metadata": {
        "id": "nT6zDPdZoncs"
      }
    },
    {
      "cell_type": "markdown",
      "source": [
        "3a. Crie uma variável res1 que informa se as duas\n",
        "strings possuem o mesmo comprimento."
      ],
      "metadata": {
        "id": "yN9Og5VeprD3"
      }
    },
    {
      "cell_type": "code",
      "source": [
        "string_1 = ('Hello, World!')\n",
        "string_2 = ('Hello World')\n",
        "\n",
        "print (f'A palavra {string_1} possui {len(string_1)} caracteres.')\n",
        "print (f'A palavra {string_2} possui {len(string_2)} caracteres.')"
      ],
      "metadata": {
        "colab": {
          "base_uri": "https://localhost:8080/"
        },
        "id": "2vfqJdf0ouoc",
        "outputId": "d50d1881-fb19-4474-f82d-ab18878ad042"
      },
      "execution_count": 28,
      "outputs": [
        {
          "output_type": "stream",
          "name": "stdout",
          "text": [
            "A palavra Hello, World! possui 13 caracteres.\n",
            "A palavra Hello World possui 11 caracteres.\n"
          ]
        }
      ]
    },
    {
      "cell_type": "markdown",
      "source": [
        "3b. Crie uma variável res2 que informa se as duasstrings são iguais ou diferentes no conteúdo."
      ],
      "metadata": {
        "id": "_-Dyq5CipuJC"
      }
    },
    {
      "cell_type": "code",
      "source": [
        "if len(string_1) == len(string_2):\n",
        "  print ('Sim, elas são do mesmo tamanho! \\n')\n",
        "\n",
        "else:\n",
        "  print ('Não, elas possuem tamanhos diferentes. \\n')\n",
        "\n",
        "if string_1 == string_2:\n",
        "  print ('Ambas possuem o mesmo conteúdo.')\n",
        "\n",
        "else:\n",
        "  print ('Ambas possuem conteúdo diferente.')"
      ],
      "metadata": {
        "colab": {
          "base_uri": "https://localhost:8080/"
        },
        "id": "SBBuY9LRpvEm",
        "outputId": "0d616c8d-a62c-449c-a94a-88ec639ba72e"
      },
      "execution_count": 29,
      "outputs": [
        {
          "output_type": "stream",
          "name": "stdout",
          "text": [
            "Não, elas possuem tamanhos diferentes. \n",
            "\n",
            "Ambas possuem conteúdo diferente.\n"
          ]
        }
      ]
    },
    {
      "cell_type": "markdown",
      "source": [
        "4. Faça um programa que ler uma string e cortaos dois primeiros caracteres e os dois últimos"
      ],
      "metadata": {
        "id": "Pdpeqg9prqBt"
      }
    },
    {
      "cell_type": "code",
      "source": [
        "string_3 = ('ABCDEFGHIJKLM')\n",
        "\n",
        "print (string_3 [2:-2])"
      ],
      "metadata": {
        "colab": {
          "base_uri": "https://localhost:8080/"
        },
        "id": "YezpcBnyrs8P",
        "outputId": "55292a3b-9ef7-42bf-aa2a-0be76eec22db"
      },
      "execution_count": 32,
      "outputs": [
        {
          "output_type": "stream",
          "name": "stdout",
          "text": [
            "CDEFGHIJK\n"
          ]
        }
      ]
    }
  ]
}