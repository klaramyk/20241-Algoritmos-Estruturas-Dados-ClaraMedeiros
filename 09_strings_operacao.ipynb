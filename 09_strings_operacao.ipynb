{
  "nbformat": 4,
  "nbformat_minor": 0,
  "metadata": {
    "colab": {
      "provenance": [],
      "authorship_tag": "ABX9TyMvWqBoJXZZn+TTpIjrgROd",
      "include_colab_link": true
    },
    "kernelspec": {
      "name": "python3",
      "display_name": "Python 3"
    },
    "language_info": {
      "name": "python"
    }
  },
  "cells": [
    {
      "cell_type": "markdown",
      "metadata": {
        "id": "view-in-github",
        "colab_type": "text"
      },
      "source": [
        "<a href=\"https://colab.research.google.com/github/klaramyk/20241-Algoritmos-Estruturas-Dados-ClaraMedeiros/blob/main/09_strings_operacao.ipynb\" target=\"_parent\"><img src=\"https://colab.research.google.com/assets/colab-badge.svg\" alt=\"Open In Colab\"/></a>"
      ]
    },
    {
      "cell_type": "markdown",
      "source": [
        "Exemplos de fatiamento de strings"
      ],
      "metadata": {
        "id": "f9P0xv-6t_Z5"
      }
    },
    {
      "cell_type": "code",
      "source": [
        "A = ('ABCDEFGHIJ')\n",
        "B = ('0123456789')\n",
        "\n",
        "print (A[0:2]) #inicia do índice 0 e para no 2, mostrando somente o índice anterior (1)\n",
        "print (A[0:3]) #inicia no 0 e para no 3, mostrando o anterior (2)\n",
        "print (A[2:2]) #inicia no 2 e para no 2, mostrando resultado vazio\n",
        "print (A[2:3]) #inicia no 2 e para no 3, pegando somente o anterior"
      ],
      "metadata": {
        "colab": {
          "base_uri": "https://localhost:8080/"
        },
        "id": "gN5ipu23uKMl",
        "outputId": "5d706710-1a9d-4821-9b75-59f22b21c8fb"
      },
      "execution_count": 5,
      "outputs": [
        {
          "output_type": "stream",
          "name": "stdout",
          "text": [
            "AB\n",
            "ABC\n",
            "\n",
            "C\n"
          ]
        }
      ]
    },
    {
      "cell_type": "code",
      "source": [
        "print (A[5:-3]) #para pegar somente a letra F | inicia no 5 e volta 3 posições do final, mostrando somente o anterior\n",
        "\n",
        "print (A[:]) #não é delimitado, então utiliza a posição inicial até a final, exibindo tudo\n",
        "\n",
        "print (A[-1:]) #utilizando o índice esquerdo, mostrará da última posição ao final\n",
        "\n",
        "print (A[:-1]) #utilizando o índice direito, mostrará do início até a penúltima posição"
      ],
      "metadata": {
        "colab": {
          "base_uri": "https://localhost:8080/"
        },
        "id": "GG0rxkjIuhbL",
        "outputId": "5247b977-4ed7-483c-bd15-412b07643f9c"
      },
      "execution_count": 6,
      "outputs": [
        {
          "output_type": "stream",
          "name": "stdout",
          "text": [
            "FG\n",
            "ABCDEFGHIJ\n",
            "J\n",
            "ABCDEFGHI\n"
          ]
        }
      ]
    },
    {
      "cell_type": "markdown",
      "source": [
        "Outros exemplos utilizando em aula"
      ],
      "metadata": {
        "id": "QFcdShr_wAsQ"
      }
    },
    {
      "cell_type": "code",
      "source": [
        "# O %d é um placeholder (marcador de posição) = usado para reservar valores (números) em um vetor.\n",
        "# %s = string\n",
        "# %d = números decimais\n",
        "# %f = núm. float\n",
        "\n",
        "nome = ('Ash')\n",
        "idade = 80\n",
        "\n",
        "print ('Meu nome é %s e minha idade é %d anos.' % (nome, idade))"
      ],
      "metadata": {
        "colab": {
          "base_uri": "https://localhost:8080/"
        },
        "id": "bcixbz91wCm2",
        "outputId": "e6bde692-e433-4781-8c06-f1c9e645db2b"
      },
      "execution_count": 12,
      "outputs": [
        {
          "output_type": "stream",
          "name": "stdout",
          "text": [
            "Meu nome é Ash e minha idade é 80 anos.\n"
          ]
        }
      ]
    },
    {
      "cell_type": "code",
      "source": [
        "#exemplo utilizado em python.2, então é melhor utilizar o format\n",
        "\n",
        "print ('%04d' % (idade))\n",
        "print ('%5d' % (idade))\n",
        "print ('%3as' % (nome)) #???\n",
        "print ('%7s' % (nome))\n",
        "print ('%02s' % (nome))\n",
        "print ('%0s' % (nome))"
      ],
      "metadata": {
        "colab": {
          "base_uri": "https://localhost:8080/"
        },
        "id": "DtFzl_iox1UP",
        "outputId": "c4d9b120-1357-4bf8-a0d3-faf6091e0ed2"
      },
      "execution_count": 29,
      "outputs": [
        {
          "output_type": "stream",
          "name": "stdout",
          "text": [
            "0080\n",
            "   80\n",
            "'Ash's\n",
            "    Ash\n",
            "Ash\n",
            "Ash\n"
          ]
        }
      ]
    }
  ]
}