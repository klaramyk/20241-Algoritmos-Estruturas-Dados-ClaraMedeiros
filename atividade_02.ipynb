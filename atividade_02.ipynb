{
  "nbformat": 4,
  "nbformat_minor": 0,
  "metadata": {
    "colab": {
      "provenance": [],
      "authorship_tag": "ABX9TyOzQooYp0HxTwmk/ziR0aff",
      "include_colab_link": true
    },
    "kernelspec": {
      "name": "python3",
      "display_name": "Python 3"
    },
    "language_info": {
      "name": "python"
    }
  },
  "cells": [
    {
      "cell_type": "markdown",
      "metadata": {
        "id": "view-in-github",
        "colab_type": "text"
      },
      "source": [
        "<a href=\"https://colab.research.google.com/github/klaramyk/20241-Algoritmos-Estruturas-Dados-ClaraMedeiros/blob/main/atividade_02.ipynb\" target=\"_parent\"><img src=\"https://colab.research.google.com/assets/colab-badge.svg\" alt=\"Open In Colab\"/></a>"
      ]
    },
    {
      "cell_type": "markdown",
      "source": [
        "**Atividade 02 - Otimizando Códigos**"
      ],
      "metadata": {
        "id": "AECZyr-gs6Di"
      }
    },
    {
      "cell_type": "markdown",
      "source": [
        "**Questão 01:** *Como você faria para garantir que as notas inseridas pelo usuário estejam dentro de um intervalo válido (por exemplo, entre 0 e 10)?*"
      ],
      "metadata": {
        "id": "dZHMK6MotrWN"
      }
    },
    {
      "cell_type": "code",
      "source": [
        "nota1 = float(input(\"Digite a nota 1 (que terá peso 2): \"))\n",
        "nota2 = float(input(\"Digite a nota 2 (que terá peso 3): \"))\n",
        "\n",
        "if nota1 >= 0 and nota1 <= 10:\n",
        "  if nota2 >=0 and nota2 <= 10:\n",
        "    media = (nota1 * 2 + nota2 * 3) / 5\n",
        "    print (f'A média do aluno é: {media:.2f}')\n",
        "else:\n",
        "  print ('Você precisa informar notas entre 0 e 10, por isso tente novamente.')\n"
      ],
      "metadata": {
        "colab": {
          "base_uri": "https://localhost:8080/"
        },
        "id": "NI-dCYZ3pmgA",
        "outputId": "cfb179fa-2ff1-4908-fb7e-584ddf77d466"
      },
      "execution_count": 3,
      "outputs": [
        {
          "output_type": "stream",
          "name": "stdout",
          "text": [
            "Digite a nota 1 (que terá peso 2): 90\n",
            "Digite a nota 2 (que terá peso 3): 100\n",
            "Você precisa informar notas entre 0 e 10, por isso tente novamente.\n"
          ]
        }
      ]
    },
    {
      "cell_type": "markdown",
      "source": [
        "**Questão 02:** *Como você poderia permitir que o usuário personalize os pesos das notas, em vez de usar pesos fixos (por exemplo, permitir que o usuário defina o peso para cada nota inserida)?*\n"
      ],
      "metadata": {
        "id": "yvm9KIVyt739"
      }
    },
    {
      "cell_type": "code",
      "execution_count": 2,
      "metadata": {
        "colab": {
          "base_uri": "https://localhost:8080/"
        },
        "id": "UcKbFeI6gjM_",
        "outputId": "e6c77065-7180-489b-de3f-1f7c28ac7d2b"
      },
      "outputs": [
        {
          "output_type": "stream",
          "name": "stdout",
          "text": [
            "Qual peso para a 1ª nota você quer utilizar? 5\n",
            "Qual peso para a 2ª nota você quer utilizar? 6\n",
            "Digite a nota 1 (com peso 2): 2\n",
            "Digite a nota 2 (com peso 3): 6\n",
            "A média do aluno é: 4.18\n"
          ]
        }
      ],
      "source": [
        "peso1 = int(input('Qual peso para a 1ª nota você quer utilizar? '))\n",
        "peso2 = int(input('Qual peso para a 2ª nota você quer utilizar? '))\n",
        "\n",
        "nota1 = float(input('Digite a nota 1 (com peso 2): '))\n",
        "nota2 = float(input('Digite a nota 2 (com peso 3): '))\n",
        "\n",
        "media = (nota1 * peso1 + nota2 * peso2) / (peso1 + peso2)\n",
        "print (f'A média do aluno é: {media:.2f}')\n"
      ]
    }
  ]
}