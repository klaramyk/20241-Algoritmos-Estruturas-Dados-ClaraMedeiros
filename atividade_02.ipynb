{
  "nbformat": 4,
  "nbformat_minor": 0,
  "metadata": {
    "colab": {
      "provenance": [],
      "authorship_tag": "ABX9TyMWTSgJouJPf53OAnm/fU5T",
      "include_colab_link": true
    },
    "kernelspec": {
      "name": "python3",
      "display_name": "Python 3"
    },
    "language_info": {
      "name": "python"
    }
  },
  "cells": [
    {
      "cell_type": "markdown",
      "metadata": {
        "id": "view-in-github",
        "colab_type": "text"
      },
      "source": [
        "<a href=\"https://colab.research.google.com/github/klaramyk/20241-Algoritmos-Estruturas-Dados-ClaraMedeiros/blob/main/atividade_02.ipynb\" target=\"_parent\"><img src=\"https://colab.research.google.com/assets/colab-badge.svg\" alt=\"Open In Colab\"/></a>"
      ]
    },
    {
      "cell_type": "code",
      "execution_count": null,
      "metadata": {
        "colab": {
          "base_uri": "https://localhost:8080/"
        },
        "id": "UcKbFeI6gjM_",
        "outputId": "2a3c33aa-73aa-4467-a9c5-06155fa5d5a5"
      },
      "outputs": [
        {
          "output_type": "stream",
          "name": "stdout",
          "text": [
            "Qual peso para a 1ª nota você quer utilizar? 2\n",
            "Qual peso para a 2ª nota você quer utilizar? 3\n",
            "Digite a nota 1 (com peso 2): 5.6\n",
            "Digite a nota 2 (com peso 3): 6.5\n",
            "A média do aluno é: 6.14\n"
          ]
        }
      ],
      "source": [
        "peso1 = int(input('Qual peso para a 1ª nota você quer utilizar? '))\n",
        "peso2 = int(input('Qual peso para a 2ª nota você quer utilizar? '))\n",
        "\n",
        "nota1 = float(input('Digite a nota 1 (com peso 2): '))\n",
        "nota2 = float(input('Digite a nota 2 (com peso 3): '))\n",
        "\n",
        "media = (nota1 * peso1 + nota2 * peso2) / (peso1 + peso2)\n",
        "print (f'A média do aluno é: {media:.2f}')\n"
      ]
    },
    {
      "cell_type": "code",
      "source": [
        "nota1 = float(input(\"Digite a nota 1 (que terá peso 2): \"))\n",
        "nota2 = float(input(\"Digite a nota 2 (que terá peso 3): \"))\n",
        "\n",
        "media = (nota1 * 2 + nota2 * 3) / 5\n",
        "\n",
        "if nota1 >= 0 and nota1 <= 10:\n",
        "  if nota2 >=0 and nota2 <= 10:\n",
        "   print (f'A média do aluno é: {media:.2f}')\n",
        "else:\n",
        "  print ('Você precisa informar notas entre 0 e 10, por isso tente novamente.')\n"
      ],
      "metadata": {
        "colab": {
          "base_uri": "https://localhost:8080/"
        },
        "id": "NI-dCYZ3pmgA",
        "outputId": "20544259-cc54-4ec6-8d29-c56079ff4032"
      },
      "execution_count": null,
      "outputs": [
        {
          "output_type": "stream",
          "name": "stdout",
          "text": [
            "Digite a nota 1 (que terá peso 2): 5\n",
            "Digite a nota 2 (que terá peso 3): 3\n",
            "A média do aluno é: 3.80\n"
          ]
        }
      ]
    }
  ]
}