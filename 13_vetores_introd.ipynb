{
  "nbformat": 4,
  "nbformat_minor": 0,
  "metadata": {
    "colab": {
      "provenance": [],
      "authorship_tag": "ABX9TyNCQ8sxqiBkbztXeyTeWsZw",
      "include_colab_link": true
    },
    "kernelspec": {
      "name": "python3",
      "display_name": "Python 3"
    },
    "language_info": {
      "name": "python"
    }
  },
  "cells": [
    {
      "cell_type": "markdown",
      "metadata": {
        "id": "view-in-github",
        "colab_type": "text"
      },
      "source": [
        "<a href=\"https://colab.research.google.com/github/klaramyk/20241-Algoritmos-Estruturas-Dados-ClaraMedeiros/blob/main/13_vetores_introd.ipynb\" target=\"_parent\"><img src=\"https://colab.research.google.com/assets/colab-badge.svg\" alt=\"Open In Colab\"/></a>"
      ]
    },
    {
      "cell_type": "code",
      "execution_count": null,
      "metadata": {
        "colab": {
          "base_uri": "https://localhost:8080/"
        },
        "id": "YJ5JqX9ifZR4",
        "outputId": "5f5be521-bb3e-41dc-f643-310a2d3787b2"
      },
      "outputs": [
        {
          "output_type": "stream",
          "name": "stdout",
          "text": [
            "Família Carvalho\n"
          ]
        }
      ],
      "source": [
        "#Considere um edifício com diversas famílias e/ou moradores por andar\n",
        "edificio_terreo = 'Família Carvalho'\n",
        "edificio_1o_andar = 'Família Silva'\n",
        "edificio_2o_andar = 'Família Martins'\n",
        "edificio_3o_andar = 'Família Assis'\n",
        "\n",
        "#como atribuir em localizações do vetor, abstraindo o andar\n",
        "edificio = [\n",
        "  edificio_terreo,\n",
        "  edificio_1o_andar,\n",
        "  edificio_2o_andar,\n",
        "  edificio_3o_andar\n",
        "]\n",
        "\n",
        "print(edificio[0]) #acessa o indice dentro"
      ]
    },
    {
      "cell_type": "code",
      "source": [
        "my_array = [7, 21, 'Fish', 'surf']\n",
        "print(my_array[2])"
      ],
      "metadata": {
        "colab": {
          "base_uri": "https://localhost:8080/"
        },
        "id": "eQqhg55xhUHf",
        "outputId": "54e74998-086c-4476-956b-dda6752d782c"
      },
      "execution_count": null,
      "outputs": [
        {
          "output_type": "stream",
          "name": "stdout",
          "text": [
            "Fish\n"
          ]
        }
      ]
    },
    {
      "cell_type": "code",
      "source": [
        "my_words = ['Dudes', 'and']\n",
        "print (my_words[0])\n",
        "print (my_words[1])\n",
        "print (my_words)\n",
        "\n",
        "my_words.append('Bettys')\n",
        "print (my_words[2])\n",
        "print (my_words)"
      ],
      "metadata": {
        "colab": {
          "base_uri": "https://localhost:8080/"
        },
        "id": "GGqX27JvhdSX",
        "outputId": "34cf3862-fab5-4d13-d73d-82f5c859797d"
      },
      "execution_count": null,
      "outputs": [
        {
          "output_type": "stream",
          "name": "stdout",
          "text": [
            "Dudes\n",
            "and\n",
            "['Dudes', 'and']\n",
            "Bettys\n",
            "['Dudes', 'and', 'Bettys']\n"
          ]
        }
      ]
    },
    {
      "cell_type": "code",
      "source": [
        "#lista vazia\n",
        "lista = []\n",
        "\n",
        "#uma lista com 3 notas\n",
        "notas = [7.5, 9, 8.3]\n",
        "\n",
        "#lista.append(notas)\n",
        "\n",
        "#acessando uma nota\n",
        "print(notas[0])\n",
        "#print (lista)\n",
        "\n",
        "#modificar uma nota\n",
        "notas[0] = 8.7\n",
        "print(notas[0])"
      ],
      "metadata": {
        "colab": {
          "base_uri": "https://localhost:8080/"
        },
        "id": "RxOgZn6fiLSZ",
        "outputId": "4b9e1318-b9ce-4735-cb75-5846ebc7339f"
      },
      "execution_count": null,
      "outputs": [
        {
          "output_type": "stream",
          "name": "stdout",
          "text": [
            "7.5\n",
            "8.7\n"
          ]
        }
      ]
    },
    {
      "cell_type": "code",
      "source": [
        "#calcule a média de 5 notas\n",
        "\n",
        "notas = [6, 7, 5, 8, 9]\n",
        "soma = 0\n",
        "x = 0 #iteração\n",
        "\n",
        "while (x < 5):\n",
        "  soma = soma + notas[x]   # soma += notas[x]\n",
        "  x = x + 1                # x += 1\n",
        "  #impressão para depuração\n",
        "  #print (x)\n",
        "  #print (soma)\n",
        "\n",
        "print (f'A média é: {(soma/x):.2f}.')"
      ],
      "metadata": {
        "colab": {
          "base_uri": "https://localhost:8080/"
        },
        "id": "F1TMGLQyjhY4",
        "outputId": "5d3f3c20-db48-46c3-f794-569c8dba062a"
      },
      "execution_count": null,
      "outputs": [
        {
          "output_type": "stream",
          "name": "stdout",
          "text": [
            "A média é: 7.00.\n"
          ]
        }
      ]
    },
    {
      "cell_type": "markdown",
      "source": [
        "**Códigos de aula 02/08/2024**"
      ],
      "metadata": {
        "id": "DKPzvw06SBD7"
      }
    },
    {
      "cell_type": "code",
      "source": [
        "palavras = ['guerra', 'paz', 'vida', 'tranquilidade']\n",
        "\n",
        "'guerra' in palavras"
      ],
      "metadata": {
        "colab": {
          "base_uri": "https://localhost:8080/"
        },
        "id": "SmCSeCxwSGGe",
        "outputId": "7a577e85-26ca-41f0-8671-17a2adda6360"
      },
      "execution_count": 1,
      "outputs": [
        {
          "output_type": "execute_result",
          "data": {
            "text/plain": [
              "True"
            ]
          },
          "metadata": {},
          "execution_count": 1
        }
      ]
    },
    {
      "cell_type": "code",
      "source": [
        "palavras = ['guerra', 'paz', 'vida', 'tranquilidade']\n",
        "\n",
        "'saúde' in palavras"
      ],
      "metadata": {
        "colab": {
          "base_uri": "https://localhost:8080/"
        },
        "outputId": "6a45c188-cdf5-41a8-d30b-11a9cd7ab402",
        "id": "edXaoawfSqgg"
      },
      "execution_count": 2,
      "outputs": [
        {
          "output_type": "execute_result",
          "data": {
            "text/plain": [
              "False"
            ]
          },
          "metadata": {},
          "execution_count": 2
        }
      ]
    },
    {
      "cell_type": "code",
      "source": [
        "for num in range (20):\n",
        "  if (num % 2 == 0): #se a sobra do numero por 2 for equivalente a 0, ou seja, par\n",
        "    print (num)"
      ],
      "metadata": {
        "colab": {
          "base_uri": "https://localhost:8080/"
        },
        "id": "myRK0QIES0AE",
        "outputId": "b1bbbff5-ea3e-4293-b2bd-848a29ae9c95"
      },
      "execution_count": 5,
      "outputs": [
        {
          "output_type": "stream",
          "name": "stdout",
          "text": [
            "0\n",
            "2\n",
            "4\n",
            "6\n",
            "8\n",
            "10\n",
            "12\n",
            "14\n",
            "16\n",
            "18\n"
          ]
        }
      ]
    },
    {
      "cell_type": "code",
      "source": [
        "for fruta in ['banana', 'uva', 'laranja', 'abacaxi', 'maçã']:\n",
        "  print (f'Eu gosto de comer {fruta}s!')"
      ],
      "metadata": {
        "colab": {
          "base_uri": "https://localhost:8080/"
        },
        "id": "K8bwTtK7TcPz",
        "outputId": "389dcc3e-9efc-4da8-fe50-55c96e3bc374"
      },
      "execution_count": 9,
      "outputs": [
        {
          "output_type": "stream",
          "name": "stdout",
          "text": [
            "Eu gosto de comer bananas!\n",
            "Eu gosto de comer uvas!\n",
            "Eu gosto de comer laranjas!\n",
            "Eu gosto de comer abacaxis!\n",
            "Eu gosto de comer maçãs!\n"
          ]
        }
      ]
    },
    {
      "cell_type": "code",
      "source": [
        "#Operação com listas\n",
        "\n",
        "a = [1, 2, 3]\n",
        "b = [4, 5, 6]\n",
        "\n",
        "c = a + b #concatena\n",
        "print (f'C = {c}')\n",
        "\n",
        "d = [0] * 4 #repete\n",
        "print (f'D = {d}')\n",
        "\n",
        "e = [a] * 3\n",
        "print (f'E = {e}')\n",
        "\n",
        "f = [1, 2, 3] * 3\n",
        "print (f'F = {f}')"
      ],
      "metadata": {
        "colab": {
          "base_uri": "https://localhost:8080/"
        },
        "id": "sP26xzcyUAQU",
        "outputId": "21cd42ef-0a0e-430d-ccd1-c0ba3925ba95"
      },
      "execution_count": 12,
      "outputs": [
        {
          "output_type": "stream",
          "name": "stdout",
          "text": [
            "C = [1, 2, 3, 4, 5, 6]\n",
            "D = [0, 0, 0, 0]\n",
            "E = [[1, 2, 3], [1, 2, 3], [1, 2, 3]]\n",
            "F = [1, 2, 3, 1, 2, 3, 1, 2, 3]\n"
          ]
        }
      ]
    },
    {
      "cell_type": "code",
      "source": [
        "#Slicing ou fatiamento da lista\n",
        "\n",
        "lista = ['a', 'b', 'c', 'd', 'e', 'f']\n",
        "\n",
        "print (lista[1:3]) #indice 1 até antes do 3\n",
        "print (lista[:4]) #indice até antes do 4\n",
        "print (lista[3:]) #indice do 3 ao final\n",
        "print (lista[:]) #indice completo\n",
        "print (lista[3]) #posição 3 do indice"
      ],
      "metadata": {
        "colab": {
          "base_uri": "https://localhost:8080/"
        },
        "id": "owO0uxviU0m0",
        "outputId": "0f92acce-5432-4928-fb84-4c55f9fafa2c"
      },
      "execution_count": 13,
      "outputs": [
        {
          "output_type": "stream",
          "name": "stdout",
          "text": [
            "['b', 'c']\n",
            "['a', 'b', 'c', 'd']\n",
            "['d', 'e', 'f']\n",
            "['a', 'b', 'c', 'd', 'e', 'f']\n",
            "d\n"
          ]
        }
      ]
    },
    {
      "cell_type": "code",
      "source": [
        "a = ['um', 'dois', 'tres', 'quatro']\n",
        "print (a)\n",
        "\n",
        "del a[1]\n",
        "print (a)"
      ],
      "metadata": {
        "colab": {
          "base_uri": "https://localhost:8080/"
        },
        "id": "iysoj9UrVe2X",
        "outputId": "3eb358b9-7f30-45d6-f822-e72e8ac2e6f3"
      },
      "execution_count": 19,
      "outputs": [
        {
          "output_type": "stream",
          "name": "stdout",
          "text": [
            "['um', 'dois', 'tres', 'quatro']\n",
            "['um', 'tres', 'quatro']\n"
          ]
        }
      ]
    },
    {
      "cell_type": "code",
      "source": [
        "lista = ['a', 'b', 'c', 'd', 'e', 'f']\n",
        "print (lista)\n",
        "\n",
        "del lista[1:4]\n",
        "print (lista)"
      ],
      "metadata": {
        "colab": {
          "base_uri": "https://localhost:8080/"
        },
        "id": "XBpwKSuUV4Me",
        "outputId": "d85def6f-5ba9-42cc-b0f1-73c8ea4d1b31"
      },
      "execution_count": 20,
      "outputs": [
        {
          "output_type": "stream",
          "name": "stdout",
          "text": [
            "['a', 'b', 'c', 'd', 'e', 'f']\n",
            "['a', 'e', 'f']\n"
          ]
        }
      ]
    },
    {
      "cell_type": "code",
      "source": [
        "a = [1, 2, 3]\n",
        "b = a #referencia\n",
        "\n",
        "print (b)"
      ],
      "metadata": {
        "colab": {
          "base_uri": "https://localhost:8080/"
        },
        "id": "8ysruVTmWI0g",
        "outputId": "412ddf77-7fcc-44bc-9b1a-9d02687f1f11"
      },
      "execution_count": 21,
      "outputs": [
        {
          "output_type": "stream",
          "name": "stdout",
          "text": [
            "[1, 2, 3]\n"
          ]
        }
      ]
    },
    {
      "cell_type": "code",
      "source": [
        "b [0] = 5 #modifica somente o indice 0 da lista B\n",
        "\n",
        "print (b)\n",
        "print (a) #resultado modificou a lista A também"
      ],
      "metadata": {
        "colab": {
          "base_uri": "https://localhost:8080/"
        },
        "id": "0tARfk1lWSsY",
        "outputId": "60b83797-6800-4850-f3b4-598d34f5ed58"
      },
      "execution_count": 22,
      "outputs": [
        {
          "output_type": "stream",
          "name": "stdout",
          "text": [
            "[5, 2, 3]\n",
            "[5, 2, 3]\n"
          ]
        }
      ]
    },
    {
      "cell_type": "code",
      "source": [
        "#clonagem de listas\n",
        "\n",
        "a = [1, 2, 3]\n",
        "b = a [:]\n",
        "\n",
        "print (b)\n",
        "b[0] = 25\n",
        "\n",
        "print (b)\n",
        "print (a)"
      ],
      "metadata": {
        "colab": {
          "base_uri": "https://localhost:8080/"
        },
        "id": "wMlaCL13Woaa",
        "outputId": "4e1e6b1d-1d5d-4373-d338-61c25671b9b8"
      },
      "execution_count": 23,
      "outputs": [
        {
          "output_type": "stream",
          "name": "stdout",
          "text": [
            "[1, 2, 3]\n",
            "[25, 2, 3]\n",
            "[1, 2, 3]\n"
          ]
        }
      ]
    }
  ]
}