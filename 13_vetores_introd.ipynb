{
  "nbformat": 4,
  "nbformat_minor": 0,
  "metadata": {
    "colab": {
      "provenance": [],
      "authorship_tag": "ABX9TyPAHXfJEzK5vmVw2Ldvcnmv",
      "include_colab_link": true
    },
    "kernelspec": {
      "name": "python3",
      "display_name": "Python 3"
    },
    "language_info": {
      "name": "python"
    }
  },
  "cells": [
    {
      "cell_type": "markdown",
      "metadata": {
        "id": "view-in-github",
        "colab_type": "text"
      },
      "source": [
        "<a href=\"https://colab.research.google.com/github/klaramyk/20241-Algoritmos-Estruturas-Dados-ClaraMedeiros/blob/main/13_vetores_introd.ipynb\" target=\"_parent\"><img src=\"https://colab.research.google.com/assets/colab-badge.svg\" alt=\"Open In Colab\"/></a>"
      ]
    },
    {
      "cell_type": "code",
      "execution_count": 3,
      "metadata": {
        "colab": {
          "base_uri": "https://localhost:8080/"
        },
        "id": "YJ5JqX9ifZR4",
        "outputId": "5f5be521-bb3e-41dc-f643-310a2d3787b2"
      },
      "outputs": [
        {
          "output_type": "stream",
          "name": "stdout",
          "text": [
            "Família Carvalho\n"
          ]
        }
      ],
      "source": [
        "#Considere um edifício com diversas famílias e/ou moradores por andar\n",
        "edificio_terreo = 'Família Carvalho'\n",
        "edificio_1o_andar = 'Família Silva'\n",
        "edificio_2o_andar = 'Família Martins'\n",
        "edificio_3o_andar = 'Família Assis'\n",
        "\n",
        "#como atribuir em localizações do vetor, abstraindo o andar\n",
        "edificio = [\n",
        "  edificio_terreo,\n",
        "  edificio_1o_andar,\n",
        "  edificio_2o_andar,\n",
        "  edificio_3o_andar\n",
        "]\n",
        "\n",
        "print(edificio[0]) #acessa o indice dentro"
      ]
    },
    {
      "cell_type": "code",
      "source": [
        "my_array = [7, 21, 'Fish', 'surf']\n",
        "print(my_array[2])"
      ],
      "metadata": {
        "colab": {
          "base_uri": "https://localhost:8080/"
        },
        "id": "eQqhg55xhUHf",
        "outputId": "54e74998-086c-4476-956b-dda6752d782c"
      },
      "execution_count": 4,
      "outputs": [
        {
          "output_type": "stream",
          "name": "stdout",
          "text": [
            "Fish\n"
          ]
        }
      ]
    },
    {
      "cell_type": "code",
      "source": [
        "my_words = ['Dudes', 'and']\n",
        "print (my_words[0])\n",
        "print (my_words[1])\n",
        "print (my_words)\n",
        "\n",
        "my_words.append('Bettys')\n",
        "print (my_words[2])\n",
        "print (my_words)"
      ],
      "metadata": {
        "colab": {
          "base_uri": "https://localhost:8080/"
        },
        "id": "GGqX27JvhdSX",
        "outputId": "34cf3862-fab5-4d13-d73d-82f5c859797d"
      },
      "execution_count": 11,
      "outputs": [
        {
          "output_type": "stream",
          "name": "stdout",
          "text": [
            "Dudes\n",
            "and\n",
            "['Dudes', 'and']\n",
            "Bettys\n",
            "['Dudes', 'and', 'Bettys']\n"
          ]
        }
      ]
    },
    {
      "cell_type": "code",
      "source": [
        "#lista vazia\n",
        "lista = []\n",
        "\n",
        "#uma lista com 3 notas\n",
        "notas = [7.5, 9, 8.3]\n",
        "\n",
        "#lista.append(notas)\n",
        "\n",
        "#acessando uma nota\n",
        "print(notas[0])\n",
        "#print (lista)\n",
        "\n",
        "#modificar uma nota\n",
        "notas[0] = 8.7\n",
        "print(notas[0])"
      ],
      "metadata": {
        "colab": {
          "base_uri": "https://localhost:8080/"
        },
        "id": "RxOgZn6fiLSZ",
        "outputId": "4b9e1318-b9ce-4735-cb75-5846ebc7339f"
      },
      "execution_count": 18,
      "outputs": [
        {
          "output_type": "stream",
          "name": "stdout",
          "text": [
            "7.5\n",
            "8.7\n"
          ]
        }
      ]
    },
    {
      "cell_type": "code",
      "source": [
        "#calcule a média de 5 notas\n",
        "\n",
        "notas = [6, 7, 5, 8, 9]\n",
        "soma = 0\n",
        "x = 0 #iteração\n",
        "\n",
        "while (x < 5):\n",
        "  soma = soma + notas[x]   # soma += notas[x]\n",
        "  x = x + 1                # x += 1\n",
        "  #impressão para depuração\n",
        "  #print (x)\n",
        "  #print (soma)\n",
        "\n",
        "print (f'A média é: {(soma/x):.2f}.')"
      ],
      "metadata": {
        "colab": {
          "base_uri": "https://localhost:8080/"
        },
        "id": "F1TMGLQyjhY4",
        "outputId": "5d3f3c20-db48-46c3-f794-569c8dba062a"
      },
      "execution_count": 32,
      "outputs": [
        {
          "output_type": "stream",
          "name": "stdout",
          "text": [
            "A média é: 7.00.\n"
          ]
        }
      ]
    }
  ]
}