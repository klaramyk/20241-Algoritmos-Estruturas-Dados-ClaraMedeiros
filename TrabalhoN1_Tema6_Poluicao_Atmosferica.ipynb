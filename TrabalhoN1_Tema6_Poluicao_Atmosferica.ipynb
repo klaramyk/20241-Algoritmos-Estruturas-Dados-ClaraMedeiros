{
  "nbformat": 4,
  "nbformat_minor": 0,
  "metadata": {
    "colab": {
      "provenance": [],
      "authorship_tag": "ABX9TyNaj8E1BmU5w1q+z/P96pDh",
      "include_colab_link": true
    },
    "kernelspec": {
      "name": "python3",
      "display_name": "Python 3"
    },
    "language_info": {
      "name": "python"
    }
  },
  "cells": [
    {
      "cell_type": "markdown",
      "metadata": {
        "id": "view-in-github",
        "colab_type": "text"
      },
      "source": [
        "<a href=\"https://colab.research.google.com/github/klaramyk/20241-Algoritmos-Estruturas-Dados-ClaraMedeiros/blob/main/TrabalhoN1_Tema6_Poluicao_Atmosferica.ipynb\" target=\"_parent\"><img src=\"https://colab.research.google.com/assets/colab-badge.svg\" alt=\"Open In Colab\"/></a>"
      ]
    },
    {
      "cell_type": "code",
      "execution_count": null,
      "metadata": {
        "id": "FMxNov_NX_LY"
      },
      "outputs": [],
      "source": []
    },
    {
      "cell_type": "markdown",
      "source": [],
      "metadata": {
        "id": "KfD_k_V1YO9U"
      }
    }
  ]
}