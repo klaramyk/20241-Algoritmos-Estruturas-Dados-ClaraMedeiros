{
  "nbformat": 4,
  "nbformat_minor": 0,
  "metadata": {
    "colab": {
      "provenance": [],
      "authorship_tag": "ABX9TyMlvx5wjvJLqG2Rp1aam0v2",
      "include_colab_link": true
    },
    "kernelspec": {
      "name": "python3",
      "display_name": "Python 3"
    },
    "language_info": {
      "name": "python"
    }
  },
  "cells": [
    {
      "cell_type": "markdown",
      "metadata": {
        "id": "view-in-github",
        "colab_type": "text"
      },
      "source": [
        "<a href=\"https://colab.research.google.com/github/klaramyk/20241-Algoritmos-Estruturas-Dados-ClaraMedeiros/blob/main/06_estrutura_repeticao_while.ipynb\" target=\"_parent\"><img src=\"https://colab.research.google.com/assets/colab-badge.svg\" alt=\"Open In Colab\"/></a>"
      ]
    },
    {
      "cell_type": "code",
      "execution_count": null,
      "metadata": {
        "id": "GqDW6jCHfFid"
      },
      "outputs": [],
      "source": [
        "x = 'texto'\n",
        "i = 0\n",
        "while x:\n",
        "  print(i)\n",
        "  print(x, end=' ')\n",
        "  i = i + 1\n",
        "  #contador incremental"
      ]
    },
    {
      "cell_type": "code",
      "source": [
        "x = 'texto'\n",
        "\n",
        "while x:\n",
        "  print(x, end=' ')\n",
        "  x = x [1:]\n",
        "  #[0:] não diminui gradualmente (não decrementa)\n",
        "  #cada laço segmenta x[1:], x[x[1:]], x[x[x[1:]]]\n",
        "  #decrementando a palavra 'texto' cada vez que o loop roda"
      ],
      "metadata": {
        "colab": {
          "base_uri": "https://localhost:8080/"
        },
        "id": "Tllj3S6nfogU",
        "outputId": "d1c40347-dc63-4356-9e06-381e50fa67dd"
      },
      "execution_count": 9,
      "outputs": [
        {
          "output_type": "stream",
          "name": "stdout",
          "text": [
            "texto exto xto to o "
          ]
        }
      ]
    },
    {
      "cell_type": "code",
      "source": [
        "x = 'texto'\n",
        "i = 1000\n",
        "\n",
        "while x:\n",
        "  print(i)\n",
        "  print(x, end=' ')\n",
        "  #x = x [1:] #não executa essa linha\n",
        "  i=i-1 #contador decremental\n"
      ],
      "metadata": {
        "id": "tHgvKviEhJbE"
      },
      "execution_count": null,
      "outputs": []
    },
    {
      "cell_type": "code",
      "source": [
        "x = 'ATCGGGCCATTTAGC'\n",
        "\n",
        "while x:\n",
        "  print(x, end=' ')\n",
        "  x = x [1:]"
      ],
      "metadata": {
        "colab": {
          "base_uri": "https://localhost:8080/"
        },
        "id": "jACG_b1JiwGT",
        "outputId": "db553425-ed45-4327-b94d-c2c5a1ecc197"
      },
      "execution_count": 13,
      "outputs": [
        {
          "output_type": "stream",
          "name": "stdout",
          "text": [
            "ATCGGGCCATTTAGC TCGGGCCATTTAGC CGGGCCATTTAGC GGGCCATTTAGC GGCCATTTAGC GCCATTTAGC CCATTTAGC CATTTAGC ATTTAGC TTTAGC TTAGC TAGC AGC GC C "
          ]
        }
      ]
    },
    {
      "cell_type": "markdown",
      "source": [
        "Contador de Pares ou Ímpares"
      ],
      "metadata": {
        "id": "46iLK2-Eosqr"
      }
    },
    {
      "cell_type": "code",
      "source": [
        "x = 10\n",
        "while x:\n",
        "  #print('Valor de x:')\n",
        "  #print(x)\n",
        "\n",
        "  #print('Resultado da divisão:')\n",
        "  #a = (x % 2)\n",
        "  #print(a)\n",
        "\n",
        "  x -= 1\n",
        "\n",
        "  #comparação da igualdade, quando o resto da divisão for igual a 0\n",
        "  if x % 2 == 0:\n",
        "\n",
        "  #comparação da diferença, quando o resto da divisão for diferente de 0\n",
        "  #if x % 2 != 0:\n",
        "\n",
        "  #comparação da diferença, quando o resto da divisão for diferente de 1\n",
        "  #if x % 2 != 1:\n",
        "    continue\n",
        "\n",
        "  print(x, end = ' ')\n",
        "  # numeros pares decrementando"
      ],
      "metadata": {
        "colab": {
          "base_uri": "https://localhost:8080/"
        },
        "id": "hC8k_ganjIqa",
        "outputId": "32aa0e2a-9552-4b11-d3f6-73729780ea4f"
      },
      "execution_count": 30,
      "outputs": [
        {
          "output_type": "stream",
          "name": "stdout",
          "text": [
            "8 6 4 2 0 "
          ]
        }
      ]
    },
    {
      "cell_type": "markdown",
      "source": [
        "Verificador de Números Primos"
      ],
      "metadata": {
        "id": "zshkw8mNoyKD"
      }
    },
    {
      "cell_type": "code",
      "source": [
        "#O algoritmo verifica se um número Y é primo ao tentar dividir Y por todos\n",
        "#os números inteiros menor que Y e maior que 1, imprimindo os fatores de\n",
        "#Y ou indicando que Y é primo.\n",
        "\n",
        "y = int(input('Digite o número para verificar se é primo: '))\n",
        "x = y // 2\n",
        "# // Pega o resto da divisão e arredonda o resultado da divisão para o número inteiro mais próximo abaixo\n",
        "\n",
        "while x > 1:\n",
        "  if y % x == 0:\n",
        "    print('Composto:', y, 'tem fator', x)\n",
        "    break\n",
        "  x -= 1\n",
        "else:\n",
        "  print(y, 'é um número primo')"
      ],
      "metadata": {
        "colab": {
          "base_uri": "https://localhost:8080/"
        },
        "id": "QNbcG3TUo3sZ",
        "outputId": "a6bf1eb8-4bc9-4242-86e8-28334f968eda"
      },
      "execution_count": 38,
      "outputs": [
        {
          "output_type": "stream",
          "name": "stdout",
          "text": [
            "Digite o número para verificar se é primo: 9\n",
            "Composto: 9 tem fator 3\n"
          ]
        }
      ]
    }
  ]
}