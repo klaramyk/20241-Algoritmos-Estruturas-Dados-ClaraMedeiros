{
  "nbformat": 4,
  "nbformat_minor": 0,
  "metadata": {
    "colab": {
      "provenance": [],
      "authorship_tag": "ABX9TyMuqdVLWdnXq81T70aLeDIr",
      "include_colab_link": true
    },
    "kernelspec": {
      "name": "python3",
      "display_name": "Python 3"
    },
    "language_info": {
      "name": "python"
    }
  },
  "cells": [
    {
      "cell_type": "markdown",
      "metadata": {
        "id": "view-in-github",
        "colab_type": "text"
      },
      "source": [
        "<a href=\"https://colab.research.google.com/github/klaramyk/20241-Algoritmos-Estruturas-Dados-ClaraMedeiros/blob/main/atividade_03.ipynb\" target=\"_parent\"><img src=\"https://colab.research.google.com/assets/colab-badge.svg\" alt=\"Open In Colab\"/></a>"
      ]
    },
    {
      "cell_type": "markdown",
      "source": [
        "**Atividade 03**"
      ],
      "metadata": {
        "id": "JkCum1sOze8q"
      }
    },
    {
      "cell_type": "markdown",
      "source": [
        "1. Calculadora de IMC (Índice de Massa Corporal):\n",
        "\n",
        "Solicite ao usuário seu peso e altura.\n",
        "Calcule o IMC usando a fórmula: IMC = peso / (altura * altura).\n",
        "\n",
        "Classifique o resultado em baixo peso, peso normal, sobrepeso ou obesidade, utilizando as faixas de IMC comuns."
      ],
      "metadata": {
        "id": "TmHvPGZzznQT"
      }
    },
    {
      "cell_type": "code",
      "execution_count": null,
      "metadata": {
        "colab": {
          "base_uri": "https://localhost:8080/"
        },
        "id": "m2VSl9fhzaZq",
        "outputId": "c1adf48c-d217-4890-a12d-50ffbcb3a51f"
      },
      "outputs": [
        {
          "output_type": "stream",
          "name": "stdout",
          "text": [
            "••••• Calculadora de IMC •••••\n",
            "Lembre-se: Use ponto para separar os decimais. Não use vírgula.\n",
            "\n",
            "Qual é o seu peso? 72.6\n",
            "Qual é a sua altura em metros? 1.49\n",
            "\n",
            "IMC: 32.70\n",
            "Resultado: Obesidade Grau 1.\n",
            "\n",
            "••••• Final do Programa. •••••\n"
          ]
        }
      ],
      "source": [
        "print('••••• Calculadora de IMC •••••')\n",
        "print('Lembre-se: Use ponto para separar os decimais. Não use vírgula.')\n",
        "print('')\n",
        "\n",
        "peso = float(input('Qual é o seu peso? '))\n",
        "altura = float(input('Qual é a sua altura em metros? '))\n",
        "\n",
        "# Para transformar , em . usa: str.replace('.',',')\n",
        "# Mas precisaria transformar em string primeiro?\n",
        "\n",
        "imc = (peso / (altura * altura))\n",
        "print('')\n",
        "print(f'IMC: {imc:.2f}')\n",
        "\n",
        "if imc < 18.5:\n",
        "  print('Resultado: Baixo Peso.')\n",
        "\n",
        "elif 18.5 < imc < 24.9:\n",
        "  print('Resultado: Peso Normal.')\n",
        "\n",
        "elif 25 < imc < 29.9:\n",
        "  print('Resultado: Sobrepeso.')\n",
        "\n",
        "elif 30 < imc < 34.9:\n",
        "  print('Resultado: Obesidade Grau 1.')\n",
        "\n",
        "elif 35 < imc < 39.9:\n",
        "  print('Resultado: Obesidade Grau 2.')\n",
        "\n",
        "else:\n",
        "  print('Resultado: Obesidade Extrema.')\n",
        "\n",
        "print('')\n",
        "print ('••••• Final do Programa •••••')"
      ]
    },
    {
      "cell_type": "markdown",
      "source": [
        "2. Verificador de Número Par ou Ímpar:\n",
        "\n",
        "Solicite ao usuário um número inteiro.\n",
        "Verifique se o número é par ou ímpar.\n",
        "Exiba uma mensagem correspondente."
      ],
      "metadata": {
        "id": "GSUAmOE_NeBz"
      }
    },
    {
      "cell_type": "code",
      "source": [
        "print('••••• Par ou Ímpar •••••')\n",
        "print('')\n",
        "\n",
        "num = int(input('Digite um número inteiro qualquer: '))\n",
        "\n",
        "# % significa que, em uma divisão inteira por 2, não sobrará resto se for par\n",
        "# % significa que, em uma divisão inteira por 2, sobrará resto se for ímpar\n",
        "\n",
        "if num % 2 == 0:\n",
        "  print('O número digitado é par!')\n",
        "else:\n",
        "  print('O número digitado é ímpar!')\n"
      ],
      "metadata": {
        "colab": {
          "base_uri": "https://localhost:8080/"
        },
        "id": "zbKfvPnSNkoH",
        "outputId": "830ddaad-ec97-44d0-f90c-40b9b20433e4"
      },
      "execution_count": null,
      "outputs": [
        {
          "output_type": "stream",
          "name": "stdout",
          "text": [
            "••••• Par ou Ímpar •••••\n",
            "\n",
            "Digite um número inteiro qualquer: 24\n",
            "O número digitado é par!\n"
          ]
        }
      ]
    },
    {
      "cell_type": "markdown",
      "source": [
        "3. Conversor de Temperatura:\n",
        "\n",
        "Solicite ao usuário uma temperatura em Celsius.\n",
        "Converta a temperatura para Fahrenheit usando a fórmula: F = C * 9/5 + 32.\n",
        "Exiba o resultado da conversão."
      ],
      "metadata": {
        "id": "t9xbhNLuPrN4"
      }
    },
    {
      "cell_type": "code",
      "source": [
        "print('••••• Temperatura •••••')\n",
        "print('Converta a temperatura de Celsius para Fahrenheit.')\n",
        "print('')\n",
        "print('Lembre-se: Use ponto para separar os decimais. Não use vírgula.')\n",
        "print('')\n",
        "\n",
        "temp_celsius = float(input('Digite a temperatura em Celsius: '))\n",
        "temp_fahren = (temp_celsius * 9 ) / 5 + 32\n",
        "\n",
        "print (f'Conversão para Fahrenheit: {temp_fahren:.1f}')"
      ],
      "metadata": {
        "colab": {
          "base_uri": "https://localhost:8080/"
        },
        "id": "m4bM0lS3PuIY",
        "outputId": "4099fef5-c604-4966-81b7-489359dfd87e"
      },
      "execution_count": null,
      "outputs": [
        {
          "output_type": "stream",
          "name": "stdout",
          "text": [
            "••••• Temperatura •••••\n",
            "Converta a temperatura de Celsius para Fahrenheit.\n",
            "\n",
            "Lembre-se: Use ponto para separar os decimais. Não use vírgula.\n",
            "\n",
            "Digite a temperatura em Celsius: 100\n",
            "Conversão para Fahrenheit: 212.0\n"
          ]
        }
      ]
    },
    {
      "cell_type": "markdown",
      "source": [
        "4. Tabuada de Multiplicação:\n",
        "\n",
        "Solicite ao usuário um número.\n",
        "Exiba a tabuada de multiplicação desse número de 1 a 10."
      ],
      "metadata": {
        "id": "gPvMRyMzWrJZ"
      }
    },
    {
      "cell_type": "code",
      "source": [
        "print('••••• Tabuada de Multiplicação •••••')\n",
        "print('')\n",
        "\n",
        "num = int(input('Digite um número inteiro qualquer: '))\n",
        "print('')\n",
        "\n",
        "# Colocando até 11, o loop para no 11 (ou seja, ele só faz até o 10)\n",
        "for x in range(1,11):\n",
        "  multip = num * x\n",
        "  print(f'{num} * {x} = {multip}')\n",
        "\n",
        "print('Fim')"
      ],
      "metadata": {
        "id": "QGklACkoW8G-",
        "colab": {
          "base_uri": "https://localhost:8080/"
        },
        "outputId": "ccaf7c7e-dff5-480d-f59f-6cbdbc3461f3"
      },
      "execution_count": null,
      "outputs": [
        {
          "output_type": "stream",
          "name": "stdout",
          "text": [
            "••••• Tabuada de Multiplicação •••••\n",
            "\n",
            "Digite um número inteiro qualquer: 7\n",
            "\n",
            "7 * 1 = 7\n",
            "7 * 2 = 14\n",
            "7 * 3 = 21\n",
            "7 * 4 = 28\n",
            "7 * 5 = 35\n",
            "7 * 6 = 42\n",
            "7 * 7 = 49\n",
            "7 * 8 = 56\n",
            "7 * 9 = 63\n",
            "7 * 10 = 70\n",
            "Fim\n"
          ]
        }
      ]
    },
    {
      "cell_type": "markdown",
      "source": [
        "5. Cálculo de Média Ponderada:\n",
        "\n",
        "Solicite ao usuário três notas e seus respectivos pesos.\n",
        "Calcule a média ponderada das notas.\n",
        "Exiba o resultado da média."
      ],
      "metadata": {
        "id": "4pXMgA-2Wt_j"
      }
    },
    {
      "cell_type": "code",
      "source": [
        "print('••••• Cálculo da Média Ponderada •••••')\n",
        "print('Lembre-se: Use ponto para separar os decimais. Não use vírgula.')\n",
        "print('')\n",
        "\n",
        "peso1 = int(input('Digite o peso desejado para a nota 1: '))\n",
        "nota1 = float(input('Digite a nota 1: '))\n",
        "\n",
        "peso2 = int(input('Digite o peso desejado para a nota 2: '))\n",
        "nota2 = float(input('Digite a nota 2: '))\n",
        "\n",
        "peso3 = int(input('Digite o peso desejado para a nota 3: '))\n",
        "nota3 = float(input('Digite a nota 3: '))\n",
        "\n",
        "media = (nota1*peso1 + nota2*peso2 + nota3*peso3) / (peso1 + peso2 + peso3)\n",
        "print('')\n",
        "print (f'A média das notas inseridas é: {media:.2f}')"
      ],
      "metadata": {
        "id": "ot03Df82W8jt",
        "colab": {
          "base_uri": "https://localhost:8080/"
        },
        "outputId": "b7e087be-2fc1-41d7-e691-e15526701a79"
      },
      "execution_count": null,
      "outputs": [
        {
          "output_type": "stream",
          "name": "stdout",
          "text": [
            "••••• Cálculo da Média Ponderada •••••\n",
            "Lembre-se: Use ponto para separar os decimais. Não use vírgula.\n",
            "\n",
            "Digite o peso desejado para a nota 1: 2\n",
            "Digite a nota 1: 4.5\n",
            "Digite o peso desejado para a nota 2: 3\n",
            "Digite a nota 2: 6.7\n",
            "Digite o peso desejado para a nota 3: 4\n",
            "Digite a nota 3: 7\n",
            "\n",
            "A média das notas inseridas é: 6.34\n"
          ]
        }
      ]
    },
    {
      "cell_type": "markdown",
      "source": [
        "6. Verificador de Ano Bissexto:\n",
        "\n",
        "Solicite ao usuário um ano.\n",
        "Verifique se o ano é bissexto.\n",
        "Exiba uma mensagem correspondente."
      ],
      "metadata": {
        "id": "Mc68L0qkWvrU"
      }
    },
    {
      "cell_type": "code",
      "source": [
        "print('••••• Verificador de Ano Bissexto •••••')\n",
        "print('')\n",
        "\n",
        "ano = int(input('Digite o ano que você deseja verificar: '))\n",
        "\n",
        "if ano % 4 == 0:\n",
        "  print(f'Sim, o ano {ano} é bissexto!')\n",
        "else:\n",
        "  print(f'Não, o ano {ano} não é bissexto.')"
      ],
      "metadata": {
        "id": "a8cE11RoW9BL",
        "colab": {
          "base_uri": "https://localhost:8080/"
        },
        "outputId": "ac3d6abd-f980-40f0-e65c-6f3bbc966334"
      },
      "execution_count": 1,
      "outputs": [
        {
          "output_type": "stream",
          "name": "stdout",
          "text": [
            "••••• Verificador de Ano Bissexto •••••\n",
            "\n",
            "Digite o ano que você deseja verificar: 2020\n",
            "Sim, o ano 2020 é bissexto!\n"
          ]
        }
      ]
    },
    {
      "cell_type": "markdown",
      "source": [
        "7. Contador de Vogais em uma String:\n",
        "\n",
        "Solicite ao usuário uma string.\n",
        "Conte e exiba o número de vogais na string (a, e, i, o, u)."
      ],
      "metadata": {
        "id": "Hpp_5B7SWxWd"
      }
    },
    {
      "cell_type": "code",
      "source": [
        "print('••••• Contador de Vogais •••••')\n",
        "print('Lembre-se: Não utilize palavras em letras MAIÚSCULAS.')\n",
        "print('')\n",
        "\n",
        "palavra = input('Digite uma palavra qualquer (em minúsculo): ')\n",
        "\n",
        "vogais = 0\n",
        "for caractere in palavra:\n",
        "  if caractere in 'aeiou':\n",
        "    vogais = vogais + 1\n",
        "\n",
        "print(f'A string {palavra} possui {vogais} vogais.')"
      ],
      "metadata": {
        "id": "BMoTy9g_W9Yy",
        "colab": {
          "base_uri": "https://localhost:8080/"
        },
        "outputId": "a67e0791-d177-4d52-f4e4-b89bf35c08a3"
      },
      "execution_count": 4,
      "outputs": [
        {
          "output_type": "stream",
          "name": "stdout",
          "text": [
            "••••• Contador de Vogais •••••\n",
            "Lembre-se: Não utilize palavras em letras MAIÚSCULAS.\n",
            "\n",
            "Digite uma palavra qualquer (em minúsculo): juazeiro\n",
            "A string juazeiro possui 5 vogais.\n"
          ]
        }
      ]
    },
    {
      "cell_type": "markdown",
      "source": [
        "8. Calculadora de Fatorial:\n",
        "\n",
        "Solicite ao usuário um número inteiro positivo.\n",
        "Calcule e exiba o fatorial desse número."
      ],
      "metadata": {
        "id": "TFVWqQ-XWzIZ"
      }
    },
    {
      "cell_type": "code",
      "source": [
        "print('••••• Calculadora de Fatorial •••••')\n",
        "print('Lembre-se: Não use números negativos.')\n",
        "print('')\n",
        "\n",
        "num = int(input('Digite um número inteiro positivo: '))\n",
        "\n",
        "if num < 0:\n",
        "    print('Não use números negativos. Por favor, tente novamente.')\n",
        "\n",
        "else:\n",
        "    fatorial = 1\n",
        "    for i in range(1, num + 1):\n",
        "        fatorial = fatorial * i\n",
        "\n",
        "    print(f'O fatorial de {num} é {fatorial}.')\n"
      ],
      "metadata": {
        "id": "EHdLXTaVW97d",
        "colab": {
          "base_uri": "https://localhost:8080/"
        },
        "outputId": "01364a4c-0bed-45de-964d-cf0ffc10a33b"
      },
      "execution_count": null,
      "outputs": [
        {
          "output_type": "stream",
          "name": "stdout",
          "text": [
            "••••• Calculadora de Fatorial •••••\n",
            "Lembre-se: Não use números negativos.\n",
            "\n",
            "Digite um número inteiro positivo: 6\n",
            "O fatorial de 6 é 720.\n"
          ]
        }
      ]
    },
    {
      "cell_type": "markdown",
      "source": [
        "9. Soma dos Números Pares em um Intervalo:\n",
        "\n",
        "Solicite ao usuário dois números inteiros que representam um intervalo.\n",
        "Calcule e exiba a soma de todos os números pares dentro desse intervalo.\n"
      ],
      "metadata": {
        "id": "ZPJq79jsW19s"
      }
    },
    {
      "cell_type": "code",
      "source": [
        "print('••••• Soma dos Nº Pares em um Intervalo •••••')\n",
        "print('')\n",
        "\n",
        "num1 = int(input('Digite o primeiro número do intervalo: '))\n",
        "num2 = int(input('Digite o segundo número do intervalo: '))\n",
        "\n",
        "if num1 > num2:\n",
        "  print('O primeiro número do intervalo deve ser menor que o segundo.')\n",
        "\n",
        "else:\n",
        "  soma = 0\n",
        "  for numero in range(num1, num2 + 1):\n",
        "    if numero % 2 == 0: #significa que é par, pq não tem resto da divisão\n",
        "      soma = soma + numero\n",
        "\n",
        "print('')\n",
        "print(f'A soma dos números pares dentro do intervalo entre {num1} e {num2} é: {soma}.')\n"
      ],
      "metadata": {
        "id": "3Bh7gJI4W-cD",
        "colab": {
          "base_uri": "https://localhost:8080/"
        },
        "outputId": "3c9e74b1-b864-4b0e-b290-99f4fff74a7f"
      },
      "execution_count": null,
      "outputs": [
        {
          "output_type": "stream",
          "name": "stdout",
          "text": [
            "••••• Soma dos Nº Pares em um Intervalo •••••\n",
            "\n",
            "Digite o primeiro número do intervalo: 2\n",
            "Digite o segundo número do intervalo: 20\n",
            "\n",
            "A soma dos números pares dentro do intervalo entre 2 e 20 é: 110.\n"
          ]
        }
      ]
    },
    {
      "cell_type": "markdown",
      "source": [
        "10. Verificador de Número Primo:\n",
        "\n",
        "Solicite ao usuário um número inteiro positivo.\n",
        "Verifique se o número é primo.\n",
        "Exiba uma mensagem correspondente."
      ],
      "metadata": {
        "id": "wIprD28cW488"
      }
    },
    {
      "cell_type": "code",
      "source": [
        "print('••••• Verificador de Números Primos •••••')\n",
        "print('Lembre-se: Digite números positivos!')\n",
        "\n",
        "print('')\n",
        "\n",
        "numero = int(input(\"Digite um número inteiro positivo: \"))\n",
        "\n",
        "if numero <= 1:\n",
        "  print('Não é um número primo.')\n",
        "\n",
        "elif numero <= 3:\n",
        "  print('É um número primo!')\n",
        "\n",
        "else:\n",
        "  primo = True\n",
        "  for i in range(5, int(numero ** 0.5) + 1):\n",
        "    if numero % i == 0:\n",
        "      primo = False\n",
        "      break\n",
        "  if primo:\n",
        "    print('É um número primo!')\n",
        "  else:\n",
        "    print('Não é um número primo.')"
      ],
      "metadata": {
        "id": "4QISSEpUW-0l"
      },
      "execution_count": null,
      "outputs": []
    }
  ]
}