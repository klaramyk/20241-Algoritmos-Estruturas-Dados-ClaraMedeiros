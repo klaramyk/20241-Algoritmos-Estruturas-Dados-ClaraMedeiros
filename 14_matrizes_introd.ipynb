{
  "nbformat": 4,
  "nbformat_minor": 0,
  "metadata": {
    "colab": {
      "provenance": [],
      "authorship_tag": "ABX9TyMTfnjeExTOPcJSFFLmmyFb",
      "include_colab_link": true
    },
    "kernelspec": {
      "name": "python3",
      "display_name": "Python 3"
    },
    "language_info": {
      "name": "python"
    }
  },
  "cells": [
    {
      "cell_type": "markdown",
      "metadata": {
        "id": "view-in-github",
        "colab_type": "text"
      },
      "source": [
        "<a href=\"https://colab.research.google.com/github/klaramyk/20241-Algoritmos-Estruturas-Dados-ClaraMedeiros/blob/main/14_matrizes_introd.ipynb\" target=\"_parent\"><img src=\"https://colab.research.google.com/assets/colab-badge.svg\" alt=\"Open In Colab\"/></a>"
      ]
    },
    {
      "cell_type": "code",
      "source": [
        "M = [1, 2, 3, 4, 5, 6] #unidimensional\n",
        "print (M)"
      ],
      "metadata": {
        "colab": {
          "base_uri": "https://localhost:8080/"
        },
        "id": "5i5LwxR9aG0c",
        "outputId": "4eecc351-5d7f-4812-a432-fc81e2746a80"
      },
      "execution_count": 3,
      "outputs": [
        {
          "output_type": "stream",
          "name": "stdout",
          "text": [
            "[1, 2, 3, 4, 5, 6]\n"
          ]
        }
      ]
    },
    {
      "cell_type": "code",
      "source": [
        "M = [ [1,1,1], [1,1,1], [1,1,1]]\n",
        "print (M)\n",
        "M = [[1] * 3] * 3 #bidimensional\n",
        "print (M)"
      ],
      "metadata": {
        "colab": {
          "base_uri": "https://localhost:8080/"
        },
        "id": "84rtiht-Z4cY",
        "outputId": "21996311-dbb2-4770-bea4-0c28905b84c8"
      },
      "execution_count": 9,
      "outputs": [
        {
          "output_type": "stream",
          "name": "stdout",
          "text": [
            "[[1, 1, 1], [1, 1, 1], [1, 1, 1]]\n",
            "[[1, 1, 1], [1, 1, 1], [1, 1, 1]]\n"
          ]
        }
      ]
    },
    {
      "cell_type": "code",
      "execution_count": 6,
      "metadata": {
        "colab": {
          "base_uri": "https://localhost:8080/"
        },
        "id": "WreFCbEmZOHR",
        "outputId": "68bc499a-d03e-4c98-de09-2678060d982b"
      },
      "outputs": [
        {
          "output_type": "stream",
          "name": "stdout",
          "text": [
            "[1, 1, 1, 1, 1]\n"
          ]
        }
      ],
      "source": [
        "M = [1 for i in range(5) ] #substitui while + if e for\n",
        "print (M)"
      ]
    },
    {
      "cell_type": "code",
      "source": [
        "M = [[1 for i in range(5)] for j in range(5)]\n",
        "print (M)"
      ],
      "metadata": {
        "colab": {
          "base_uri": "https://localhost:8080/"
        },
        "id": "gryrvXzUbMSh",
        "outputId": "a39f82c8-ca67-4d5d-f7ca-cd6d2974c944"
      },
      "execution_count": 10,
      "outputs": [
        {
          "output_type": "stream",
          "name": "stdout",
          "text": [
            "[[1, 1, 1, 1, 1], [1, 1, 1, 1, 1], [1, 1, 1, 1, 1], [1, 1, 1, 1, 1], [1, 1, 1, 1, 1]]\n"
          ]
        }
      ]
    },
    {
      "cell_type": "code",
      "source": [
        "#imprimir uma lista aninhada\n",
        "\n",
        "m = [[1 for i in range (3)] for j in range (5)]\n",
        "print (m)\n",
        "print (len (m))\n",
        "cont = 0\n",
        "\n",
        "for i in range (len(m)):\n",
        "  for j in range (len(m [i])):\n",
        "    cont += 1\n",
        "    m [i][j] = cont\n",
        "    print (m [i][j])\n",
        "print (m)"
      ],
      "metadata": {
        "colab": {
          "base_uri": "https://localhost:8080/"
        },
        "id": "2TyOH94fesQx",
        "outputId": "1b6f45f0-dca9-4c6b-d66a-84186be43ea8"
      },
      "execution_count": 21,
      "outputs": [
        {
          "output_type": "stream",
          "name": "stdout",
          "text": [
            "[[1, 1, 1], [1, 1, 1], [1, 1, 1], [1, 1, 1], [1, 1, 1]]\n",
            "5\n",
            "1\n",
            "2\n",
            "3\n",
            "4\n",
            "5\n",
            "6\n",
            "7\n",
            "8\n",
            "9\n",
            "10\n",
            "11\n",
            "12\n",
            "13\n",
            "14\n",
            "15\n",
            "[[1, 2, 3], [4, 5, 6], [7, 8, 9], [10, 11, 12], [13, 14, 15]]\n"
          ]
        }
      ]
    }
  ]
}