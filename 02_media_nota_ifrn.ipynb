{
  "nbformat": 4,
  "nbformat_minor": 0,
  "metadata": {
    "colab": {
      "provenance": [],
      "authorship_tag": "ABX9TyNbUcaFvbyyMPxnQUX3sVR4",
      "include_colab_link": true
    },
    "kernelspec": {
      "name": "python3",
      "display_name": "Python 3"
    },
    "language_info": {
      "name": "python"
    }
  },
  "cells": [
    {
      "cell_type": "markdown",
      "metadata": {
        "id": "view-in-github",
        "colab_type": "text"
      },
      "source": [
        "<a href=\"https://colab.research.google.com/github/klaramyk/20241-Algoritmos-Estruturas-Dados-ClaraMedeiros/blob/main/02_media_nota_ifrn.ipynb\" target=\"_parent\"><img src=\"https://colab.research.google.com/assets/colab-badge.svg\" alt=\"Open In Colab\"/></a>"
      ]
    },
    {
      "cell_type": "markdown",
      "source": [
        "Calculadora de Média Ponderada **IFRN**"
      ],
      "metadata": {
        "id": "HNt9phcPxUn4"
      }
    },
    {
      "cell_type": "code",
      "execution_count": 2,
      "metadata": {
        "colab": {
          "base_uri": "https://localhost:8080/"
        },
        "id": "PVmBaocZxPB7",
        "outputId": "60910f9f-3309-411b-c069-14484969eb29"
      },
      "outputs": [
        {
          "output_type": "stream",
          "name": "stdout",
          "text": [
            "Calculadora de Média Ponderada do IFRN\n",
            "Digite a nota 1 (com peso 2): 5.6\n",
            "Digite a nota 2 (com peso 3): 3.8\n",
            "A média ponderada das notas é: 4.52\n",
            "A média ponderada das notas é: 4.520\n",
            "A média ponderada das notas é:  4.52\n",
            "Reprovado\n"
          ]
        }
      ],
      "source": [
        "print(\"Calculadora de Média Ponderada do IFRN\")\n",
        "\n",
        "#Float: explicitar a tipagem da variável para garantir número fracionado\n",
        "n1 = float(input(\"Digite a nota 1 (com peso 2): \"))\n",
        "n2 = float(input(\"Digite a nota 2 (com peso 3): \"))\n",
        "\n",
        "#calculo de media ponderada\n",
        "media = (n1 * 2 + n2 * 3) / 5\n",
        "\n",
        "#impressão da média com 2 casas decimais\n",
        "print (f\"A média ponderada das notas é: {media:.2f}\")\n",
        "\n",
        "#impressão da média com 3 casas decimais\n",
        "print (f\"A média ponderada das notas é: {media:.3f}\")\n",
        "#f inicial: caractere de escape para rodar a formatação :.2f\n",
        "\n",
        "#impressão da média sem formatação\n",
        "print (f\"A média ponderada das notas é: \" , media)\n",
        "#não tem controle das casas decimais\n",
        "\n",
        "#apresentar se o aluno foi aprovado ou não\n",
        "if media >= 6:\n",
        "  print(\"Aprovado\")\n",
        "else:\n",
        "  if n1 >= 4 and n2 >= 4: #\n",
        "    print(\"Prova final\")\n",
        "  else:\n",
        "    print(\"Reprovado\")"
      ]
    }
  ]
}