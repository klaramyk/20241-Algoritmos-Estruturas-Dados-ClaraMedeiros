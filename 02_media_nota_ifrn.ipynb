{
  "nbformat": 4,
  "nbformat_minor": 0,
  "metadata": {
    "colab": {
      "provenance": [],
      "authorship_tag": "ABX9TyOKuvMnO+dSahZOC+tCclcX",
      "include_colab_link": true
    },
    "kernelspec": {
      "name": "python3",
      "display_name": "Python 3"
    },
    "language_info": {
      "name": "python"
    }
  },
  "cells": [
    {
      "cell_type": "markdown",
      "metadata": {
        "id": "view-in-github",
        "colab_type": "text"
      },
      "source": [
        "<a href=\"https://colab.research.google.com/github/klaramyk/20241-Algoritmos-Estruturas-Dados-ClaraMedeiros/blob/main/02_media_nota_ifrn.ipynb\" target=\"_parent\"><img src=\"https://colab.research.google.com/assets/colab-badge.svg\" alt=\"Open In Colab\"/></a>"
      ]
    },
    {
      "cell_type": "markdown",
      "source": [
        "Calculadora de Média Ponderada **IFRN**"
      ],
      "metadata": {
        "id": "HNt9phcPxUn4"
      }
    },
    {
      "cell_type": "code",
      "execution_count": 12,
      "metadata": {
        "colab": {
          "base_uri": "https://localhost:8080/"
        },
        "id": "PVmBaocZxPB7",
        "outputId": "ab378db9-9601-4863-da12-d9c9ccc194df"
      },
      "outputs": [
        {
          "output_type": "stream",
          "name": "stdout",
          "text": [
            "Calculadora de Média Ponderada do IFRN\n",
            "Digite a nota 1 (com peso 2): 5\n",
            "Digite a nota 2 (com peso 3): 4.6\n",
            "A média ponderada das notas é: 4.760\n",
            "A média ponderada das notas é:  4.76\n"
          ]
        }
      ],
      "source": [
        "print(\"Calculadora de Média Ponderada do IFRN\")\n",
        "\n",
        "#Float: explicitar a tipagem da variável para garantir número fracionado\n",
        "n1 = float(input(\"Digite a nota 1 (com peso 2): \"))\n",
        "n2 = float(input(\"Digite a nota 2 (com peso 3): \"))\n",
        "\n",
        "#calculo de media ponderada\n",
        "media = (n1 * 2 + n2 * 3) / 5\n",
        "\n",
        "#impressão da média\n",
        "print (f\"A média ponderada das notas é: {media:.3f}\") #f inicial: caractere de escape para rodar a formatação :.2f\n",
        "\n",
        "#impressão da média sem formatação\n",
        "print (f\"A média ponderada das notas é: \" , media) #não tem controle das casas decimais"
      ]
    }
  ]
}