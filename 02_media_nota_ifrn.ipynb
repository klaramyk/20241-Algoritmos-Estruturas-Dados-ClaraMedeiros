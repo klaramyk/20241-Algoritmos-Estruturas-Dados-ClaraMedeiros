{
  "nbformat": 4,
  "nbformat_minor": 0,
  "metadata": {
    "colab": {
      "provenance": [],
      "authorship_tag": "ABX9TyOfkQpblgQu4/d3xmFt2JS4",
      "include_colab_link": true
    },
    "kernelspec": {
      "name": "python3",
      "display_name": "Python 3"
    },
    "language_info": {
      "name": "python"
    }
  },
  "cells": [
    {
      "cell_type": "markdown",
      "metadata": {
        "id": "view-in-github",
        "colab_type": "text"
      },
      "source": [
        "<a href=\"https://colab.research.google.com/github/klaramyk/20241-Algoritmos-Estruturas-Dados-ClaraMedeiros/blob/main/02_media_nota_ifrn.ipynb\" target=\"_parent\"><img src=\"https://colab.research.google.com/assets/colab-badge.svg\" alt=\"Open In Colab\"/></a>"
      ]
    },
    {
      "cell_type": "markdown",
      "source": [
        "Calculadora de Média Ponderada **IFRN**"
      ],
      "metadata": {
        "id": "HNt9phcPxUn4"
      }
    },
    {
      "cell_type": "code",
      "execution_count": 1,
      "metadata": {
        "colab": {
          "base_uri": "https://localhost:8080/"
        },
        "id": "PVmBaocZxPB7",
        "outputId": "5fd4956f-6ccb-4b1b-ff4e-b1f603c90281"
      },
      "outputs": [
        {
          "output_type": "stream",
          "name": "stdout",
          "text": [
            "Calculadora de Média Ponderada do IFRN\n",
            "Digite a nota 1 (com peso 2): 52\n",
            "Digite a nota 2 (com peso 3): 65\n",
            "A média ponderada das notas é: 59.80\n",
            "A média ponderada das notas é: 59.800\n",
            "A média ponderada das notas é:  59.8\n",
            "Reprovado\n"
          ]
        }
      ],
      "source": [
        "print(\"Calculadora de Média Ponderada do IFRN\")\n",
        "\n",
        "#Float: explicitar a tipagem da variável para garantir número fracionado\n",
        "n1 = float(input(\"Digite a nota 1 (com peso 2): \"))\n",
        "n2 = float(input(\"Digite a nota 2 (com peso 3): \"))\n",
        "\n",
        "#calculo de media ponderada\n",
        "media = (n1 * 2 + n2 * 3) / 5\n",
        "\n",
        "#impressão da média com 2 casas decimais\n",
        "print (f\"A média ponderada das notas é: {media:.2f}\")\n",
        "\n",
        "#impressão da média com 3 casas decimais\n",
        "print (f\"A média ponderada das notas é: {media:.3f}\")\n",
        "#f inicial: caractere de escape para rodar a formatação :.2f\n",
        "\n",
        "#impressão da média sem formatação\n",
        "print (f\"A média ponderada das notas é: \" , media)\n",
        "#não tem controle das casas decimais\n",
        "\n",
        "#apresentar se o aluno foi aprovado ou não\n",
        "if media >= 60:\n",
        "  print(\"Aprovado\")\n",
        "else:\n",
        "  print(\"Reprovado\")"
      ]
    }
  ]
}