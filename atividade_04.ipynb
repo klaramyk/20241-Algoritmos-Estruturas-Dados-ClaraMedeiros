{
  "nbformat": 4,
  "nbformat_minor": 0,
  "metadata": {
    "colab": {
      "provenance": [],
      "authorship_tag": "ABX9TyMvtWRkSz/Xbtc9fkNrSRO0",
      "include_colab_link": true
    },
    "kernelspec": {
      "name": "python3",
      "display_name": "Python 3"
    },
    "language_info": {
      "name": "python"
    }
  },
  "cells": [
    {
      "cell_type": "markdown",
      "metadata": {
        "id": "view-in-github",
        "colab_type": "text"
      },
      "source": [
        "<a href=\"https://colab.research.google.com/github/klaramyk/20241-Algoritmos-Estruturas-Dados-ClaraMedeiros/blob/main/atividade_04.ipynb\" target=\"_parent\"><img src=\"https://colab.research.google.com/assets/colab-badge.svg\" alt=\"Open In Colab\"/></a>"
      ]
    },
    {
      "cell_type": "markdown",
      "source": [
        "1. Escreva um programa que imprima \"Olá, Mundo!\" na tela."
      ],
      "metadata": {
        "id": "BHEIbp61Ogy3"
      }
    },
    {
      "cell_type": "code",
      "execution_count": 1,
      "metadata": {
        "colab": {
          "base_uri": "https://localhost:8080/"
        },
        "id": "zRdfkrg9OO4s",
        "outputId": "8fa81f22-b542-4268-bd50-121c84781a83"
      },
      "outputs": [
        {
          "output_type": "stream",
          "name": "stdout",
          "text": [
            "Olá, Mundo!\n"
          ]
        }
      ],
      "source": [
        "mensagem = 'Olá, Mundo!'\n",
        "print (mensagem)"
      ]
    },
    {
      "cell_type": "markdown",
      "source": [
        "2. Crie um programa que leia três notas de um aluno e calcule a média final."
      ],
      "metadata": {
        "id": "157y_X5UOl2Z"
      }
    },
    {
      "cell_type": "code",
      "source": [
        "print ('*** Cálculo da Média Final *** \\n')\n",
        "\n",
        "nota_1 = float(input('Digite a 1ª nota do aluno: '))\n",
        "nota_2 = float(input('Digite a 2ª nota do aluno: '))\n",
        "nota_3 = float(input('Digite a 3ª nota do aluno: '))\n",
        "\n",
        "media_final = (nota_1 + nota_2 + nota_3) / 3\n",
        "print ()\n",
        "print (f'A média final do aluno foi: {media_final:.2f}.')\n"
      ],
      "metadata": {
        "colab": {
          "base_uri": "https://localhost:8080/"
        },
        "id": "6_fJfmwIPIhO",
        "outputId": "97f3742c-afb6-4ef5-be32-7ca3ac29a037"
      },
      "execution_count": 31,
      "outputs": [
        {
          "output_type": "stream",
          "name": "stdout",
          "text": [
            "*** Cálculo da Média Final *** \n",
            "\n",
            "Digite a 1ª nota do aluno: 2\n",
            "Digite a 2ª nota do aluno: 20\n",
            "Digite a 3ª nota do aluno: 2\n",
            "\n",
            "A média final do aluno foi: 8.00.\n"
          ]
        }
      ]
    },
    {
      "cell_type": "markdown",
      "source": [
        "3. Escreva um programa que calcule a média de notas, permitindo a entrada repetida de notas até que o usuário indique que não deseja mais inserir."
      ],
      "metadata": {
        "id": "tkUGfpb3Op4S"
      }
    },
    {
      "cell_type": "code",
      "source": [
        "print ('*** Média de Notas *** \\n')\n",
        "\n",
        "soma_notas = 0\n",
        "contador = 0\n",
        "repete = True #atribuição usa apenas =\n",
        "\n",
        "while repete == True: #comparação usa ==\n",
        "  nota = float(input('Insira a nota: \\n'))\n",
        "  soma_notas = soma_notas + nota\n",
        "  contador = contador + 1\n",
        "\n",
        "  continua = (input('Você deseja inserir outra nota? (s/n): '))\n",
        "  if continua == 's':\n",
        "    repete = True\n",
        "  elif continua == 'n':\n",
        "    repete = False\n",
        "  else:\n",
        "    print('Esta não é uma opção válida. Novas notas não serão recebidas. \\n')\n",
        "    break\n",
        "\n",
        "media = soma_notas / contador\n",
        "#print(soma_notas, contador, media)\n",
        "print ()\n",
        "print (f' A média das notas inseridas é: {media:.1f} .')"
      ],
      "metadata": {
        "colab": {
          "base_uri": "https://localhost:8080/"
        },
        "id": "37OplhYrmp15",
        "outputId": "0879b7cd-e6ec-4387-f135-033198558934"
      },
      "execution_count": 69,
      "outputs": [
        {
          "output_type": "stream",
          "name": "stdout",
          "text": [
            "*** Média de Notas *** \n",
            "\n",
            "Insira a nota: \n",
            "8\n",
            "Você deseja inserir outra nota? (s/n): s\n",
            "Insira a nota: \n",
            "10\n",
            "Você deseja inserir outra nota? (s/n): oi\n",
            "Esta não é uma opção válida. Novas notas não serão recebidas. \n",
            "\n",
            "\n",
            " A média das notas inseridas é: 9.0 .\n"
          ]
        }
      ]
    },
    {
      "cell_type": "markdown",
      "source": [
        "4. Crie um programa que leia três números e determine o maior deles."
      ],
      "metadata": {
        "id": "rvOU2kUHOtpA"
      }
    },
    {
      "cell_type": "code",
      "source": [
        "print ('*** Qual número é maior? *** \\n')\n",
        "\n",
        "n1 = int(input ('Digite um número qualquer: '))\n",
        "n2 = int(input ('Digite um número qualquer: '))\n",
        "n3 = int(input ('Digite um número qualquer: '))\n",
        "\n",
        "if n1 >= n2:\n",
        "  if n1 >= n3:\n",
        "    print (f' {n1} é o maior número.')\n",
        "\n",
        "  elif n3 >= n2:\n",
        "    print (f' {n3} é o maior número.')\n",
        "\n",
        "elif n2 >= n3:\n",
        "    print (f' {n2} é o maior número.')\n",
        "\n",
        "else:\n",
        "  print (f' {n3} é o maior número.')"
      ],
      "metadata": {
        "colab": {
          "base_uri": "https://localhost:8080/"
        },
        "id": "T3qw-1iPUg_C",
        "outputId": "0e91afbf-c14b-407c-9f24-979a25341c5d"
      },
      "execution_count": 49,
      "outputs": [
        {
          "output_type": "stream",
          "name": "stdout",
          "text": [
            "*** Qual número é maior? ***\n",
            "Digite um número qualquer: 12\n",
            "Digite um número qualquer: 2\n",
            "Digite um número qualquer: 45\n",
            " 45 é o maior número.\n"
          ]
        }
      ]
    },
    {
      "cell_type": "markdown",
      "source": [
        "5. Desenvolva um programa que monitore a qualidade da água de um reservatório usando um loop while."
      ],
      "metadata": {
        "id": "JJnpUbEfOwSU"
      }
    },
    {
      "cell_type": "markdown",
      "source": [
        "![Captura de tela 2024-07-06 164641.png](data:image/png;base64,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)\n",
        "\n",
        "Fonte: https://tratamentodeagua.com.br/artigo/qualidade-da-agua/"
      ],
      "metadata": {
        "id": "tLzJCO4-lM2Z"
      }
    },
    {
      "cell_type": "code",
      "source": [
        "from typing_extensions import runtime\n",
        "print ('*** Monitoramento da Qualidade de Água do Reservatório ***')\n",
        "\n",
        "qualidade_agua = 0\n",
        "contador = 0\n",
        "repete = True\n",
        "\n",
        "while repete == True:\n",
        "  valor = float(input('Insira o valor encontrado: \\n'))\n",
        "  qualidade_agua = qualidade_agua + valor\n",
        "  contador = contador + 1\n",
        "\n",
        "  continua = (input('Você deseja inserir outro valor? (s/n): '))\n",
        "  if continua == 's':\n",
        "    repete = True\n",
        "  elif continua == 'n':\n",
        "    repete = False\n",
        "  else:\n",
        "    print('Esta não é uma opção válida. Novos valores não serão recebidos. \\n')\n",
        "    break\n",
        "\n",
        "media = qualidade_agua / contador\n",
        "print ()\n",
        "print (f'A média das notas inseridas é: {media:.1f} .')\n",
        "\n",
        "if media >= 90:\n",
        "  print ('O nível de qualidade da água é excelente!')\n",
        "\n",
        "elif media >= 70 and media < 90:\n",
        "  print ('O nível de qualidade da água é bom!')\n",
        "\n",
        "elif media >= 50 and media < 70:\n",
        "  print ('O nível de qualidade da água é médio!')\n",
        "\n",
        "elif media >= 25 and media < 50:\n",
        "  print ('O nível de qualidade da água é ruim!')\n",
        "\n",
        "else:\n",
        "  print ('O nível de qualidade da água é muito ruim!')\n"
      ],
      "metadata": {
        "colab": {
          "base_uri": "https://localhost:8080/"
        },
        "id": "eRh0uCdjkbOj",
        "outputId": "bb32cc01-c2a3-4d51-93d9-41de223637c4"
      },
      "execution_count": 25,
      "outputs": [
        {
          "output_type": "stream",
          "name": "stdout",
          "text": [
            "*** Monitoramento da Qualidade de Água do Reservatório ***\n",
            "Insira o valor encontrado: \n",
            "50\n",
            "Você deseja inserir outro valor? (s/n): s\n",
            "Insira o valor encontrado: \n",
            "50\n",
            "Você deseja inserir outro valor? (s/n): n\n",
            "\n",
            "A média das notas inseridas é: 50.0 .\n",
            "O nível de qualidade da água é médio!\n"
          ]
        }
      ]
    },
    {
      "cell_type": "markdown",
      "source": [
        "6. Implemente um programa que utilize um loop while para calcular a soma dos números de 1 a 100."
      ],
      "metadata": {
        "id": "FHBYfIVtOycb"
      }
    },
    {
      "cell_type": "code",
      "source": [
        "print ('*** Soma dos Números de 1 a 100 *** \\n')\n",
        "\n",
        "soma = 0\n",
        "contador = 1\n",
        "\n",
        "while contador < 101:\n",
        "  soma = soma + contador\n",
        "  contador = contador + 1\n",
        "\n",
        "print(f' A soma de todos números é {soma}.')"
      ],
      "metadata": {
        "colab": {
          "base_uri": "https://localhost:8080/"
        },
        "id": "zatS0Tmkh236",
        "outputId": "bb0e04e2-accf-47ca-86e7-439225b5f6bd"
      },
      "execution_count": 30,
      "outputs": [
        {
          "output_type": "stream",
          "name": "stdout",
          "text": [
            "*** Soma dos Números de 1 a 100 *** \n",
            "\n",
            " A soma de todos números é 5050.\n"
          ]
        }
      ]
    },
    {
      "cell_type": "markdown",
      "source": [
        "7. Escreva um programa que imprima todos os números ímpares de 1 a 50 usando um loop for."
      ],
      "metadata": {
        "id": "E1a15jX_O058"
      }
    },
    {
      "cell_type": "code",
      "source": [
        "print ('*** Números Ímpares entre 1 e 50 *** \\n')\n",
        "\n",
        "for x in range (51):\n",
        "  if x % 2 == 1:\n",
        "    print (f'{x} é ímpar.')"
      ],
      "metadata": {
        "colab": {
          "base_uri": "https://localhost:8080/"
        },
        "id": "aoo39z48CYXr",
        "outputId": "e58706a2-a0c1-4c3e-c1b1-304fa95a9061"
      },
      "execution_count": 1,
      "outputs": [
        {
          "output_type": "stream",
          "name": "stdout",
          "text": [
            "*** Números Ímpares entre 1 e 50 *** \n",
            "\n",
            "1 é ímpar.\n",
            "3 é ímpar.\n",
            "5 é ímpar.\n",
            "7 é ímpar.\n",
            "9 é ímpar.\n",
            "11 é ímpar.\n",
            "13 é ímpar.\n",
            "15 é ímpar.\n",
            "17 é ímpar.\n",
            "19 é ímpar.\n",
            "21 é ímpar.\n",
            "23 é ímpar.\n",
            "25 é ímpar.\n",
            "27 é ímpar.\n",
            "29 é ímpar.\n",
            "31 é ímpar.\n",
            "33 é ímpar.\n",
            "35 é ímpar.\n",
            "37 é ímpar.\n",
            "39 é ímpar.\n",
            "41 é ímpar.\n",
            "43 é ímpar.\n",
            "45 é ímpar.\n",
            "47 é ímpar.\n",
            "49 é ímpar.\n"
          ]
        }
      ]
    },
    {
      "cell_type": "markdown",
      "source": [
        "8. Desenvolva um programa que utilize os objetos built-in do Python para realizar operações com listas e dicionários."
      ],
      "metadata": {
        "id": "v2bb3P0MO3MT"
      }
    },
    {
      "cell_type": "code",
      "source": [
        "print ('*** Objetos Built-In *** \\n')\n",
        "\n",
        "lista = ['a', 'b', 'c', 'd', 'e']\n",
        "\n",
        "numeros = []\n",
        "for x in range (3):\n",
        "  num = ('1', '2', '3', '4', '5')\n",
        "  numeros.append(num)\n",
        "\n",
        "# ('1', '2', '3', '4', '5')\n",
        "print ((lista) * 2)\n",
        "print (lista [0:2])\n",
        "\n",
        "print (numeros)\n",
        "print (numeros [0:1:1])\n",
        "\n",
        "#maior = max (numeros.values())\n",
        "#print (maior)"
      ],
      "metadata": {
        "colab": {
          "base_uri": "https://localhost:8080/"
        },
        "id": "GUbUs0uaCY5m",
        "outputId": "f7b4edcd-99ed-42df-a29c-16e34ce84031"
      },
      "execution_count": 20,
      "outputs": [
        {
          "output_type": "stream",
          "name": "stdout",
          "text": [
            "*** Objetos Built-In *** \n",
            "\n",
            "['a', 'b', 'c', 'd', 'e', 'a', 'b', 'c', 'd', 'e']\n",
            "['a', 'b']\n",
            "[('1', '2', '3', '4', '5'), ('1', '2', '3', '4', '5'), ('1', '2', '3', '4', '5')]\n",
            "[('1', '2', '3', '4', '5')]\n"
          ]
        }
      ]
    }
  ]
}