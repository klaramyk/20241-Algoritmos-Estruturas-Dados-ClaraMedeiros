{
  "nbformat": 4,
  "nbformat_minor": 0,
  "metadata": {
    "colab": {
      "provenance": [],
      "authorship_tag": "ABX9TyOs8mbhzsly9OlpaGyhbO6Q",
      "include_colab_link": true
    },
    "kernelspec": {
      "name": "python3",
      "display_name": "Python 3"
    },
    "language_info": {
      "name": "python"
    }
  },
  "cells": [
    {
      "cell_type": "markdown",
      "metadata": {
        "id": "view-in-github",
        "colab_type": "text"
      },
      "source": [
        "<a href=\"https://colab.research.google.com/github/klaramyk/20241-Algoritmos-Estruturas-Dados-ClaraMedeiros/blob/main/05_repeticao_while_qualidade_da_agua.ipynb\" target=\"_parent\"><img src=\"https://colab.research.google.com/assets/colab-badge.svg\" alt=\"Open In Colab\"/></a>"
      ]
    },
    {
      "cell_type": "code",
      "execution_count": 13,
      "metadata": {
        "colab": {
          "base_uri": "https://localhost:8080/"
        },
        "id": "vq92S04T1hsI",
        "outputId": "4c818d70-ef88-434e-9d9b-b76087bb309a"
      },
      "outputs": [
        {
          "output_type": "stream",
          "name": "stdout",
          "text": [
            "Insira o nível de cloro da água para verificar se está dentro do padrão aceito.\n",
            "Digite o nível de cloro em mg/L: 3\n",
            "Atenção! O nível de cloro está acima do padrão aceitável.\n"
          ]
        }
      ],
      "source": [
        "#Programa de controle de qualidade de água\n",
        "print('Insira o nível de cloro da água para verificar se está dentro do padrão aceito.')\n",
        "parada = True\n",
        "#parada = 1 (outro exemplo, pois também serve como True)\n",
        "\n",
        "#loop infinito // infinite loop\n",
        "while parada:\n",
        "  nivel_cloro = float(input('Digite o nível de cloro em mg/L: '))\n",
        "\n",
        "  # verificando se o 0.2 > nivel_cloro < 2.0\n",
        "  if nivel_cloro < 0.2:\n",
        "    print('Atenção! O nível de cloro está abaixo do padrão aceitável.')\n",
        "\n",
        "  elif nivel_cloro > 2.0:\n",
        "    print('Atenção! O nível de cloro está acima do padrão aceitável.')\n",
        "\n",
        "  else:\n",
        "    print('O nível de cloro está dentro dos padrões aceitáveis.')\n",
        "  parada = False\n",
        "    # O programa só irá parar quando o valor for aceitável dentro dos padrões\n",
        "  # Se colocasse o 'break' identado dentro do while, o programa pararia independente do valor ser aceitável ou não"
      ]
    }
  ]
}