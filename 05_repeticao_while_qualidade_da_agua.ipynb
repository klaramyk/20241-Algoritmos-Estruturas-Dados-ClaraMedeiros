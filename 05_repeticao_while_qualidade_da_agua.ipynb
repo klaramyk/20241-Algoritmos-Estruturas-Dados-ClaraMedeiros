{
  "nbformat": 4,
  "nbformat_minor": 0,
  "metadata": {
    "colab": {
      "provenance": [],
      "authorship_tag": "ABX9TyPRJ4T9uuLSa4OE783kWdwI",
      "include_colab_link": true
    },
    "kernelspec": {
      "name": "python3",
      "display_name": "Python 3"
    },
    "language_info": {
      "name": "python"
    }
  },
  "cells": [
    {
      "cell_type": "markdown",
      "metadata": {
        "id": "view-in-github",
        "colab_type": "text"
      },
      "source": [
        "<a href=\"https://colab.research.google.com/github/klaramyk/20241-Algoritmos-Estruturas-Dados-ClaraMedeiros/blob/main/05_repeticao_while_qualidade_da_agua.ipynb\" target=\"_parent\"><img src=\"https://colab.research.google.com/assets/colab-badge.svg\" alt=\"Open In Colab\"/></a>"
      ]
    },
    {
      "cell_type": "code",
      "execution_count": 3,
      "metadata": {
        "colab": {
          "base_uri": "https://localhost:8080/"
        },
        "id": "vq92S04T1hsI",
        "outputId": "47dc21db-04f4-4b71-d2c9-444f5151bafb"
      },
      "outputs": [
        {
          "output_type": "stream",
          "name": "stdout",
          "text": [
            "Insira o nível de cloro da água para verificar se está dentro do padrão\n",
            "Digite o nível de cloro em mg/L: 2.3\n",
            "O nível de cloro está dentro dos padrões aceitáveis.\n"
          ]
        }
      ],
      "source": [
        "#Programa de controle de qualidade de água\n",
        "print('Insira o nível de cloro da água para verificar se está dentro do padrão aceito.')\n",
        "\n",
        "#loop infinito // infinite loop\n",
        "while True:\n",
        "  nivel_cloro = float(input('Digite o nível de cloro em mg/L: '))\n",
        "\n",
        "  # verificando se o 0.2 > nivel_cloro < 2.0\n",
        "  if nivel_cloro < 0.2:\n",
        "    print('Atenção! O nível de cloro está abaixo do padrão aceitável.')\n",
        "  elif nivel_cloro > 2.0:\n",
        "     print('Atenção! O nível de cloro está acima do padrão aceitável.')\n",
        "  else:\n",
        "    print('O nível de cloro está dentro dos padrões aceitáveis.')\n",
        "    break"
      ]
    }
  ]
}