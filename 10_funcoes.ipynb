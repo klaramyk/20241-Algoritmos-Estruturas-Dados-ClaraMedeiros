{
  "nbformat": 4,
  "nbformat_minor": 0,
  "metadata": {
    "colab": {
      "provenance": [],
      "authorship_tag": "ABX9TyOrgpBoTyzwzWdUeZuM8L65",
      "include_colab_link": true
    },
    "kernelspec": {
      "name": "python3",
      "display_name": "Python 3"
    },
    "language_info": {
      "name": "python"
    }
  },
  "cells": [
    {
      "cell_type": "markdown",
      "metadata": {
        "id": "view-in-github",
        "colab_type": "text"
      },
      "source": [
        "<a href=\"https://colab.research.google.com/github/klaramyk/20241-Algoritmos-Estruturas-Dados-ClaraMedeiros/blob/main/10_funcoes.ipynb\" target=\"_parent\"><img src=\"https://colab.research.google.com/assets/colab-badge.svg\" alt=\"Open In Colab\"/></a>"
      ]
    },
    {
      "cell_type": "code",
      "execution_count": 1,
      "metadata": {
        "colab": {
          "base_uri": "https://localhost:8080/"
        },
        "id": "z8ew057CTOF0",
        "outputId": "17e40135-c330-4d7a-a473-5a772b966ecd"
      },
      "outputs": [
        {
          "output_type": "stream",
          "name": "stdout",
          "text": [
            "True\n",
            "False\n"
          ]
        }
      ],
      "source": [
        "#função de retorno par\n",
        "\n",
        "def epar (num):\n",
        "  if num % 2 == 0:\n",
        "    return True\n",
        "  else:\n",
        "    return False\n",
        "\n",
        "print (epar(4))\n",
        "print (epar(3))\n"
      ]
    },
    {
      "cell_type": "code",
      "source": [
        "#função para verificar retorno de numero primo\n",
        "\n",
        "def primo (num2):\n",
        "  for i in range (2, num2):\n",
        "    if num2 % i == 0:\n",
        "      return False\n",
        "  return True\n",
        "\n",
        "print (primo(4))\n",
        "print (primo(5))"
      ],
      "metadata": {
        "colab": {
          "base_uri": "https://localhost:8080/"
        },
        "id": "LJlkfJOdfWMR",
        "outputId": "b1503417-77af-4e5d-caea-9d96dc91313c"
      },
      "execution_count": 3,
      "outputs": [
        {
          "output_type": "stream",
          "name": "stdout",
          "text": [
            "False\n",
            "True\n"
          ]
        }
      ]
    }
  ]
}