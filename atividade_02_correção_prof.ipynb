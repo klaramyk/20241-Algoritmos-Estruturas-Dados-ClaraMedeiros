{
  "nbformat": 4,
  "nbformat_minor": 0,
  "metadata": {
    "colab": {
      "provenance": [],
      "authorship_tag": "ABX9TyPRB6OEIqvPBg/T9bVoLjNa",
      "include_colab_link": true
    },
    "kernelspec": {
      "name": "python3",
      "display_name": "Python 3"
    },
    "language_info": {
      "name": "python"
    }
  },
  "cells": [
    {
      "cell_type": "markdown",
      "metadata": {
        "id": "view-in-github",
        "colab_type": "text"
      },
      "source": [
        "<a href=\"https://colab.research.google.com/github/klaramyk/20241-Algoritmos-Estruturas-Dados-ClaraMedeiros/blob/main/atividade_02_corre%C3%A7%C3%A3o_prof.ipynb\" target=\"_parent\"><img src=\"https://colab.research.google.com/assets/colab-badge.svg\" alt=\"Open In Colab\"/></a>"
      ]
    },
    {
      "cell_type": "markdown",
      "source": [
        "**Questão 01:**"
      ],
      "metadata": {
        "id": "g5v6FMf94m3B"
      }
    },
    {
      "cell_type": "code",
      "execution_count": null,
      "metadata": {
        "colab": {
          "base_uri": "https://localhost:8080/"
        },
        "id": "GxVZJ0Je4a0D",
        "outputId": "a2cbecb0-29e1-427c-890c-5fe34a36abf9"
      },
      "outputs": [
        {
          "output_type": "stream",
          "name": "stdout",
          "text": [
            "Calculadora de Médias Ponderadas do IFRN\n",
            "Digite as notas do aluno em um intervalo entre 0 e 10.\n",
            "Digite a nota 1 (que terá peso 2): 56\n",
            "Valor de nota inválida, tente novamente!\n"
          ]
        }
      ],
      "source": [
        "print('Calculadora de Médias Ponderadas do IFRN')\n",
        "print('Digite as notas do aluno em um intervalo entre 0 e 10.')\n",
        "\n",
        "#FLAG de validade da nota\n",
        "invalido = 0\n",
        "\n",
        "nota1 = float(input(\"Digite a nota 1 (que terá peso 2): \"))\n",
        "if 0 <= nota1 <= 10:\n",
        "  print('Nota válida.')\n",
        "else:\n",
        "  print('Valor de nota inválida, tente novamente entre 0 e 10!')\n",
        "  invalido = 1\n",
        "\n",
        "if invalido == 0:\n",
        "  nota2 = float(input(\"Digite a nota 2 (que terá peso 2): \"))\n",
        "  if 0 <= nota2 <= 10:\n",
        "    print('Nota válida.')\n",
        "  else:\n",
        "    print('Valor de nota inválida, tente novamente entre 0 e 10!')\n",
        "    invalido = 1\n",
        "\n",
        "if invalido == 0:\n",
        "  media = (nota1 * 2 + nota2 * 3) / 5\n",
        "  print(f'A média ponderada das notas é: {media:.2f}')\n",
        "\n",
        "  if media >= 6:\n",
        "    print('Aprovado')\n",
        "  else:\n",
        "    if media >= 2:\n",
        "      print('Prova final')\n",
        "    else:\n",
        "      print('Reprovado')"
      ]
    },
    {
      "cell_type": "markdown",
      "source": [
        "**Questão 02:**"
      ],
      "metadata": {
        "id": "NRCECOao5uFq"
      }
    },
    {
      "cell_type": "code",
      "source": [
        "print('Calculadora de Médias Ponderadas do IFRN')\n",
        "print('Digite o peso que quer usar para calcular as notas dos alunos.')\n",
        "\n",
        "#FLAG de validade da nota\n",
        "invalido = 0\n",
        "\n",
        "peso1 = int(input('Qual peso para a 1ª nota você quer utilizar? '))\n",
        "nota1 = float(input('Digite a nota 1: '))\n",
        "\n",
        "if 0 <= nota1 <= 10:\n",
        "  print('Nota válida.')\n",
        "else:\n",
        "  print('Valor de nota inválida, tente novamente entre 0 e 10!')\n",
        "  invalido = 1\n",
        "\n",
        "\n",
        "if invalido == 0:\n",
        "#Se fosse invalido = 0, o valor estaria sendo definido para a variável\n",
        "#Quando usa variavel == 0, significa uma condição atual, se o valor da variável for zero, prossegue\n",
        "  peso2 = int(input('Qual peso para a 2ª nota você quer utilizar? '))\n",
        "  nota2 = float(input('Digite a nota 2: '))\n",
        "  if 0 <= nota2 <= 10:\n",
        "      print('Nota válida.')\n",
        "  else:\n",
        "    print('Valor de nota inválida, tente novamente entre 0 e 10!')\n",
        "    invalido = 1\n",
        "\n",
        "\n",
        "if invalido == 0:\n",
        "  media = (nota1 * peso1 + nota2 * peso2) / (peso1 + peso2)\n",
        "  print(f'A média ponderada das notas é: {media:.2f}')\n",
        "\n",
        "  if media >= 6:\n",
        "    print('Aprovado')\n",
        "  else:\n",
        "    if media >= 2:\n",
        "      print('Prova final')\n",
        "    else:\n",
        "      print('Reprovado')"
      ],
      "metadata": {
        "id": "o9tKiYqQ5wB4",
        "colab": {
          "base_uri": "https://localhost:8080/"
        },
        "outputId": "ebdc87e1-0deb-44b4-96e0-08d0a624e9c6"
      },
      "execution_count": 6,
      "outputs": [
        {
          "output_type": "stream",
          "name": "stdout",
          "text": [
            "Calculadora de Médias Ponderadas do IFRN\n",
            "Digite o peso que quer usar para calcular as notas dos alunos.\n",
            "Qual peso para a 1ª nota você quer utilizar? 2\n",
            "Digite a nota 1: 5\n",
            "Nota válida.\n",
            "Qual peso para a 2ª nota você quer utilizar? 3\n",
            "Digite a nota 2: 8\n",
            "Nota válida.\n",
            "A média ponderada das notas é: 6.80\n",
            "Aprovado\n"
          ]
        }
      ]
    }
  ]
}