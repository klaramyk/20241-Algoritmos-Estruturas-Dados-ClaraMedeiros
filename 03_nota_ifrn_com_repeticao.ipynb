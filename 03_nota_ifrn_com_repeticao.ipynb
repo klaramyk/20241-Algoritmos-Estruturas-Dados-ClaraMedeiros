{
  "nbformat": 4,
  "nbformat_minor": 0,
  "metadata": {
    "colab": {
      "provenance": [],
      "authorship_tag": "ABX9TyMwmLlv3jBUrRODe4unQUEm",
      "include_colab_link": true
    },
    "kernelspec": {
      "name": "python3",
      "display_name": "Python 3"
    },
    "language_info": {
      "name": "python"
    }
  },
  "cells": [
    {
      "cell_type": "markdown",
      "metadata": {
        "id": "view-in-github",
        "colab_type": "text"
      },
      "source": [
        "<a href=\"https://colab.research.google.com/github/klaramyk/20241-Algoritmos-Estruturas-Dados-ClaraMedeiros/blob/main/03_nota_ifrn_com_repeticao.ipynb\" target=\"_parent\"><img src=\"https://colab.research.google.com/assets/colab-badge.svg\" alt=\"Open In Colab\"/></a>"
      ]
    },
    {
      "cell_type": "code",
      "execution_count": 5,
      "metadata": {
        "colab": {
          "base_uri": "https://localhost:8080/"
        },
        "id": "iqPu-TlYhe0U",
        "outputId": "aae41ce9-84ba-4aee-90b6-6afdab747925"
      },
      "outputs": [
        {
          "output_type": "stream",
          "name": "stdout",
          "text": [
            "Calculadora de Média Ponderada do IFRN\n",
            "Digite o número de alunos: 2\n",
            "Aluno: 1\n",
            "Digite a nota 1 (com peso 2): 5\n",
            "Digite a nota 2 (com peso 3): 5\n",
            "A média ponderada das notas é: 5.00\n",
            "Prova final\n",
            "Aluno: 2\n",
            "Digite a nota 1 (com peso 2): 5\n",
            "Digite a nota 2 (com peso 3): 6\n",
            "A média ponderada das notas é: 5.60\n",
            "Prova final\n"
          ]
        }
      ],
      "source": [
        "print(\"Calculadora de Média Ponderada do IFRN\")\n",
        "\n",
        "#Perguntar para quantos alunos deseja calcular a média\n",
        "num_alunos = int(input(\"Digite o número de alunos: \"))\n",
        "\n",
        "for aluno in range(1, num_alunos + 1):\n",
        "\n",
        "  #imprima o numero de aluno da vez:\n",
        "  print(f\"Aluno: {aluno:}\")\n",
        "\n",
        "  #Float: explicitar a tipagem da variável para garantir número fracionado\n",
        "  n1 = float(input(\"Digite a nota 1 (com peso 2): \"))\n",
        "  n2 = float(input(\"Digite a nota 2 (com peso 3): \"))\n",
        "\n",
        "  #calculo de media ponderada\n",
        "  media = (n1 * 2 + n2 * 3) / 5\n",
        "\n",
        "  #impressão da média com 2 casas decimais\n",
        "  print (f\"A média ponderada das notas é: {media:.2f}\")\n",
        "\n",
        "  #apresentar se o aluno foi aprovado ou não\n",
        "  if media >= 6:\n",
        "    print(\"Aprovado\")\n",
        "  else:\n",
        "    if n1 >= 4 and n2 >= 4: #\n",
        "      print(\"Prova final\")\n",
        "    else:\n",
        "      print(\"Reprovado\")"
      ]
    }
  ]
}