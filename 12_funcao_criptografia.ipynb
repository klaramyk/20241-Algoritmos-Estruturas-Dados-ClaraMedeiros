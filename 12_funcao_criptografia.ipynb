{
  "nbformat": 4,
  "nbformat_minor": 0,
  "metadata": {
    "colab": {
      "provenance": [],
      "authorship_tag": "ABX9TyPzM427hOPP3I2OGm+XKhnE",
      "include_colab_link": true
    },
    "kernelspec": {
      "name": "python3",
      "display_name": "Python 3"
    },
    "language_info": {
      "name": "python"
    }
  },
  "cells": [
    {
      "cell_type": "markdown",
      "metadata": {
        "id": "view-in-github",
        "colab_type": "text"
      },
      "source": [
        "<a href=\"https://colab.research.google.com/github/klaramyk/20241-Algoritmos-Estruturas-Dados-ClaraMedeiros/blob/main/12_funcao_criptografia.ipynb\" target=\"_parent\"><img src=\"https://colab.research.google.com/assets/colab-badge.svg\" alt=\"Open In Colab\"/></a>"
      ]
    },
    {
      "cell_type": "code",
      "execution_count": 20,
      "metadata": {
        "colab": {
          "base_uri": "https://localhost:8080/"
        },
        "id": "CiSeAe95X-ez",
        "outputId": "cc3cbd9b-f060-453b-e75e-7ce44a8b1a98"
      },
      "outputs": [
        {
          "output_type": "stream",
          "name": "stdout",
          "text": [
            "Digite a mensagem para criptografar: ola mundo\n",
            "Mensagem criptografada: ٯ٬١ؠ٭ٵٮ٤ٯ\n",
            "Mensagem descriptografada: ola mundo\n"
          ]
        }
      ],
      "source": [
        "#criptografia\n",
        "#https://www.w3schools.com/python/ref_func_chr.asp\n",
        "#https://www.w3schools.com/python/ref_func_ord.asp\n",
        "\n",
        "def criptografa(msg):\n",
        "  s = ''\n",
        "  for i in msg:    #cifra de césar adaptada\n",
        "    s += chr(ord(i) + 1536)\n",
        "  return s\n",
        "\n",
        "def descriptografa (msg):\n",
        "  s = ''\n",
        "  for i in msg: #iterador que percorre a variável que contem a mensagem\n",
        "    s += chr(ord(i) - 1536)\n",
        "  return s\n",
        "\n",
        "mensagem = input ('Digite a mensagem para criptografar: ')\n",
        "mensagem_criptografada = criptografa (mensagem)\n",
        "print (f'Mensagem criptografada: {mensagem_criptografada}')\n",
        "\n",
        "mensagem_descriptografada = descriptografa (mensagem_criptografada)\n",
        "print (f'Mensagem descriptografada: {mensagem_descriptografada}')"
      ]
    }
  ]
}