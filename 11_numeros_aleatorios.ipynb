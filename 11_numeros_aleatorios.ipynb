{
  "nbformat": 4,
  "nbformat_minor": 0,
  "metadata": {
    "colab": {
      "provenance": [],
      "authorship_tag": "ABX9TyMKnJJWjGE5eH2pHGzLt8zA",
      "include_colab_link": true
    },
    "kernelspec": {
      "name": "python3",
      "display_name": "Python 3"
    },
    "language_info": {
      "name": "python"
    }
  },
  "cells": [
    {
      "cell_type": "markdown",
      "metadata": {
        "id": "view-in-github",
        "colab_type": "text"
      },
      "source": [
        "<a href=\"https://colab.research.google.com/github/klaramyk/20241-Algoritmos-Estruturas-Dados-ClaraMedeiros/blob/main/11_numeros_aleatorios.ipynb\" target=\"_parent\"><img src=\"https://colab.research.google.com/assets/colab-badge.svg\" alt=\"Open In Colab\"/></a>"
      ]
    },
    {
      "cell_type": "code",
      "execution_count": 5,
      "metadata": {
        "colab": {
          "base_uri": "https://localhost:8080/"
        },
        "id": "ppWbY2dwo5Rs",
        "outputId": "3bdc95a9-f91a-4fbc-fb9a-c219e2a55bb6"
      },
      "outputs": [
        {
          "output_type": "stream",
          "name": "stdout",
          "text": [
            "66\n"
          ]
        }
      ],
      "source": [
        "#https://www.w3schools.com/python/module_random.asp\n",
        "\n",
        "import random\n",
        "print(random.randint(1,100))"
      ]
    },
    {
      "cell_type": "code",
      "source": [
        "alunos = ['Daniel', 'João', 'Beatriz', 'Maria']\n",
        "print(random.choice(alunos))\n",
        "print(random.choice(alunos))\n",
        "print(random.choice(alunos))"
      ],
      "metadata": {
        "colab": {
          "base_uri": "https://localhost:8080/"
        },
        "id": "kEcuEFeppWLs",
        "outputId": "c521367e-9c65-49e2-d0a5-38be0d613b12"
      },
      "execution_count": 10,
      "outputs": [
        {
          "output_type": "stream",
          "name": "stdout",
          "text": [
            "João\n",
            "Daniel\n",
            "Maria\n"
          ]
        }
      ]
    },
    {
      "cell_type": "code",
      "source": [
        "alunos = ['Daniel', 'João', 'Beatriz', 'Maria']\n",
        "print(alunos)\n",
        "random.shuffle(alunos)"
      ],
      "metadata": {
        "colab": {
          "base_uri": "https://localhost:8080/"
        },
        "id": "5y6mTw3zqLmC",
        "outputId": "61549c77-130a-4864-c4f8-93576be0a664"
      },
      "execution_count": 11,
      "outputs": [
        {
          "output_type": "stream",
          "name": "stdout",
          "text": [
            "['Daniel', 'João', 'Beatriz', 'Maria']\n"
          ]
        }
      ]
    },
    {
      "cell_type": "markdown",
      "source": [
        "Função para embaralhar letras de uma palavra"
      ],
      "metadata": {
        "id": "T42wq66uqtul"
      }
    },
    {
      "cell_type": "code",
      "source": [
        "def embaralha(palavra):\n",
        "  import random\n",
        "  lista = list(palavra)\n",
        "  print(lista)\n",
        "  random.shuffle(lista)\n",
        "  print(lista)\n",
        "  return ''.join(lista)\n",
        "  # '' não colocar espaços dentro das aspas\n",
        "  #o .join retorna como uma string completa\n",
        "  #sem o .join retorna como uma lista com cada caractere separado\n",
        "\n",
        "embaralha('juazeiro') #chama a função com a palavra escolhida"
      ],
      "metadata": {
        "colab": {
          "base_uri": "https://localhost:8080/",
          "height": 70
        },
        "id": "dI9hgzqyqwfa",
        "outputId": "7d7f8bc8-d67b-4805-9059-fc5d95ac27bd"
      },
      "execution_count": 19,
      "outputs": [
        {
          "output_type": "stream",
          "name": "stdout",
          "text": [
            "['j', 'u', 'a', 'z', 'e', 'i', 'r', 'o']\n",
            "['a', 'e', 'j', 'r', 'u', 'o', 'i', 'z']\n"
          ]
        },
        {
          "output_type": "execute_result",
          "data": {
            "text/plain": [
              "'aejruoiz'"
            ],
            "application/vnd.google.colaboratory.intrinsic+json": {
              "type": "string"
            }
          },
          "metadata": {},
          "execution_count": 19
        }
      ]
    }
  ]
}