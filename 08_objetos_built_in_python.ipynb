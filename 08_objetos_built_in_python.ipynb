{
  "nbformat": 4,
  "nbformat_minor": 0,
  "metadata": {
    "colab": {
      "provenance": [],
      "authorship_tag": "ABX9TyMH8aSKJP6vqH8VMxVEhdcn",
      "include_colab_link": true
    },
    "kernelspec": {
      "name": "python3",
      "display_name": "Python 3"
    },
    "language_info": {
      "name": "python"
    }
  },
  "cells": [
    {
      "cell_type": "markdown",
      "metadata": {
        "id": "view-in-github",
        "colab_type": "text"
      },
      "source": [
        "<a href=\"https://colab.research.google.com/github/klaramyk/20241-Algoritmos-Estruturas-Dados-ClaraMedeiros/blob/main/08_objetos_built_in_python.ipynb\" target=\"_parent\"><img src=\"https://colab.research.google.com/assets/colab-badge.svg\" alt=\"Open In Colab\"/></a>"
      ]
    },
    {
      "cell_type": "code",
      "execution_count": 7,
      "metadata": {
        "colab": {
          "base_uri": "https://localhost:8080/"
        },
        "id": "iKxvXMcx6LrG",
        "outputId": "8ba06ab7-79ce-4124-f3d7-9b8d4004e6ac"
      },
      "outputs": [
        {
          "output_type": "stream",
          "name": "stdout",
          "text": [
            "4\n",
            "<class 'str'>\n",
            "['__add__', '__class__', '__contains__', '__delattr__', '__dir__', '__doc__', '__eq__', '__format__', '__ge__', '__getattribute__', '__getitem__', '__getnewargs__', '__gt__', '__hash__', '__init__', '__init_subclass__', '__iter__', '__le__', '__len__', '__lt__', '__mod__', '__mul__', '__ne__', '__new__', '__reduce__', '__reduce_ex__', '__repr__', '__rmod__', '__rmul__', '__setattr__', '__sizeof__', '__str__', '__subclasshook__', 'capitalize', 'casefold', 'center', 'count', 'encode', 'endswith', 'expandtabs', 'find', 'format', 'format_map', 'index', 'isalnum', 'isalpha', 'isascii', 'isdecimal', 'isdigit', 'isidentifier', 'islower', 'isnumeric', 'isprintable', 'isspace', 'istitle', 'isupper', 'join', 'ljust', 'lower', 'lstrip', 'maketrans', 'partition', 'removeprefix', 'removesuffix', 'replace', 'rfind', 'rindex', 'rjust', 'rpartition', 'rsplit', 'rstrip', 'split', 'splitlines', 'startswith', 'strip', 'swapcase', 'title', 'translate', 'upper', 'zfill']\n",
            "False\n",
            "True\n",
            "False\n",
            "True\n"
          ]
        }
      ],
      "source": [
        "#Exemplo de uso de objetos built-in do Python\n",
        "s = 'spam'\n",
        "\n",
        "#Tamanho de s\n",
        "print(len(s))\n",
        "\n",
        "#Tipo de classe de s\n",
        "print(type(s))\n",
        "\n",
        "#Atributos de objeto disponíveis para s\n",
        "print(dir(s))\n",
        "\n",
        "#Testando o atributo isnumeric\n",
        "print(s.isnumeric())\n",
        "print(s.isascii())\n",
        "print(s.isdecimal())\n",
        "print(s.isprintable())\n"
      ]
    },
    {
      "cell_type": "code",
      "source": [
        "print(s[0])\n",
        "print(s[1:3])\n",
        "\n",
        "#três primeiros caracteres\n",
        "print(s[:3])\n",
        "print(s[:2])\n",
        "\n",
        "#adicionar o sufico xyz\n",
        "print(s + 'xyz')\n",
        "\n",
        "#buscar o trecho com pa\n",
        "print(s.find('pa'))\n",
        "\n",
        "#colocar em letras maiusculas\n",
        "print(s.upper())\n",
        "\n",
        "#colocar em letras minusculas\n",
        "print(s.lower())\n",
        "\n",
        "#substituir um trecho, exemplo, pa por ma\n",
        "print(s.replace('pa','ma'))\n",
        "\n",
        "#para substituir permanentemente, teria que\n",
        "#que acontecer uma operação de atribuição de variável\n",
        "s = s.replace('pa', 'ma')\n",
        "print(s)\n"
      ],
      "metadata": {
        "colab": {
          "base_uri": "https://localhost:8080/"
        },
        "id": "dGY_NtVX9czl",
        "outputId": "cea34518-785b-4f32-baea-e70ebffc601e"
      },
      "execution_count": 20,
      "outputs": [
        {
          "output_type": "stream",
          "name": "stdout",
          "text": [
            "s\n",
            "ma\n",
            "sma\n",
            "sm\n",
            "smamxyz\n",
            "-1\n",
            "SMAM\n",
            "smam\n",
            "smam\n",
            "smam\n"
          ]
        }
      ]
    },
    {
      "cell_type": "code",
      "source": [
        "l = [123, 'casa', 3.14]\n",
        "print(type(l))\n",
        "print(dir(l))"
      ],
      "metadata": {
        "colab": {
          "base_uri": "https://localhost:8080/"
        },
        "id": "XktsNDZS_hfS",
        "outputId": "b0c5e27e-eb16-4779-c236-083b2b93fe1e"
      },
      "execution_count": 44,
      "outputs": [
        {
          "output_type": "stream",
          "name": "stdout",
          "text": [
            "<class 'list'>\n",
            "['__add__', '__class__', '__class_getitem__', '__contains__', '__delattr__', '__delitem__', '__dir__', '__doc__', '__eq__', '__format__', '__ge__', '__getattribute__', '__getitem__', '__gt__', '__hash__', '__iadd__', '__imul__', '__init__', '__init_subclass__', '__iter__', '__le__', '__len__', '__lt__', '__mul__', '__ne__', '__new__', '__reduce__', '__reduce_ex__', '__repr__', '__reversed__', '__rmul__', '__setattr__', '__setitem__', '__sizeof__', '__str__', '__subclasshook__', 'append', 'clear', 'copy', 'count', 'extend', 'index', 'insert', 'pop', 'remove', 'reverse', 'sort']\n"
          ]
        }
      ]
    },
    {
      "cell_type": "code",
      "source": [
        "print(len(l))\n",
        "print(l[0])\n",
        "\n",
        "#duplica a lista\n",
        "print(l*2)\n",
        "\n",
        "#adicionar um item a lista\n",
        "l = l + ['abc']\n",
        "print(l)\n",
        "\n",
        "l.append('amor')\n",
        "print(l)\n",
        "\n",
        "#remover a primeira ocorrência de casa\n",
        "l.remove('casa')\n",
        "print(l)"
      ],
      "metadata": {
        "colab": {
          "base_uri": "https://localhost:8080/"
        },
        "id": "LSHfvpWvAUZq",
        "outputId": "fbc9caa2-e78e-4833-de0d-687022de0f5c"
      },
      "execution_count": 45,
      "outputs": [
        {
          "output_type": "stream",
          "name": "stdout",
          "text": [
            "3\n",
            "123\n",
            "[123, 'casa', 3.14, 123, 'casa', 3.14]\n",
            "[123, 'casa', 3.14, 'abc']\n",
            "[123, 'casa', 3.14, 'abc', 'amor']\n",
            "[123, 3.14, 'abc', 'amor']\n"
          ]
        }
      ]
    },
    {
      "cell_type": "code",
      "source": [],
      "metadata": {
        "id": "nK2VcEl6C5DR"
      },
      "execution_count": null,
      "outputs": []
    }
  ]
}